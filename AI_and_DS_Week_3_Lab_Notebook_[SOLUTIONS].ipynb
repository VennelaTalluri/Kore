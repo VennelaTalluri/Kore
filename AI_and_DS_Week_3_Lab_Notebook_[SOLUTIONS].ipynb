{
  "nbformat": 4,
  "nbformat_minor": 0,
  "metadata": {
    "colab": {
      "provenance": [],
      "include_colab_link": true
    },
    "kernelspec": {
      "name": "python3",
      "display_name": "Python 3"
    },
    "language_info": {
      "name": "python"
    }
  },
  "cells": [
    {
      "cell_type": "markdown",
      "metadata": {
        "id": "view-in-github",
        "colab_type": "text"
      },
      "source": [
        "<a href=\"https://colab.research.google.com/github/VennelaTalluri/Kore/blob/main/AI_and_DS_Week_3_Lab_Notebook_%5BSOLUTIONS%5D.ipynb\" target=\"_parent\"><img src=\"https://colab.research.google.com/assets/colab-badge.svg\" alt=\"Open In Colab\"/></a>"
      ]
    },
    {
      "cell_type": "markdown",
      "source": [
        "---\n",
        "# **Lab 3: Data Analysis with Python Project**\n",
        "---\n",
        "\n",
        "### **Description**\n",
        "In today's lab, you will dive into working with real-world data using Python. You'll apply what you've learned so far to clean, organize, and analyze the dataset, making decisions about how to handle various challenges along the way. This will involve extracting key information, performing calculations, and identifying patterns within the data.\n",
        "\n",
        "Throughout the lab, you'll be expected to make use of your problem-solving skills, as well as the tools and techniques introduced in previous lessons. We encourage you to keep your past notebooks and cheatsheets open as a reference to guide you through the process. By the end of the lab, you will have strengthened your ability to manipulate and analyze datasets, preparing you for more advanced data tasks.\n",
        "\n",
        "<br>\n",
        "\n",
        "### **Lab Structure**\n",
        "\n",
        "**Concept Practice**\n",
        "\n",
        "- **Part 1**: [For Loops](#p1)\n",
        "\n",
        "- **Part 2**: [Functions](#p2)\n",
        "\n",
        "\n",
        "**Data Analysis Project**\n",
        "\n",
        "- **Part 3**: [Cleaning a Dataset](#p3)\n",
        "\n",
        "- **Part 4**: [Analyzing the Data](#p4)\n",
        "\n",
        "<br>\n",
        "\n",
        "\n",
        "\n",
        "\n",
        "### **Cheat Sheets**\n",
        "* [Python basics Cheat Sheet I](https://docs.google.com/document/d/1P3mae56ecUhbi3zq5eCT9T7HamCGEcd3lqqdZvUZAvU/edit?usp=sharing)\n",
        "* [Python basics Cheat Sheet II](https://docs.google.com/document/d/18eQIB2AkctAQXiYCgsI10IJ5X_L70QpZuDdclz8zAi8/edit?usp=sharing)\n",
        "* [Python basics Cheat Sheet III](https://docs.google.com/document/d/1-Nw8dzt_3wzpDlhR_JoVjFZ0rhKOmua78p7f8yLlufg/edit?usp=sharing)\n",
        "* [Python basics Cheat Sheet IV](https://docs.google.com/document/d/1jpuwKS_8RMyAi3VnAcEZkQVOU5hrSU7KSDjNuhKX2aQ/edit?usp=sharing)\n",
        "\n"
      ],
      "metadata": {
        "id": "JzRpzCK-M1DW"
      }
    },
    {
      "cell_type": "markdown",
      "source": [
        "<a name=\"p1\"></a>\n",
        "\n",
        "---\n",
        "## **Part 1: For Loops**\n",
        "---\n"
      ],
      "metadata": {
        "id": "aFpwX5gCwlv3"
      }
    },
    {
      "cell_type": "markdown",
      "source": [
        "\n",
        "#### **Problem #1.1**\n",
        "\n",
        "Print every item in the list on its own line."
      ],
      "metadata": {
        "id": "HAUBl5aPMES0"
      }
    },
    {
      "cell_type": "code",
      "source": [
        "stuff = ['keyboard','monitor','computer','web cam','mouse']\n",
        "# COMPLETE THIS CODE"
      ],
      "metadata": {
        "id": "YBaQbHzXR-R0"
      },
      "execution_count": null,
      "outputs": []
    },
    {
      "cell_type": "markdown",
      "source": [
        "##### **Solution**"
      ],
      "metadata": {
        "id": "gBSeHSGiR-n9"
      }
    },
    {
      "cell_type": "code",
      "source": [
        "stuff = ['keyboard','monitor','computer','web cam','mouse']\n",
        "for thing in stuff:\n",
        "  print(thing)"
      ],
      "metadata": {
        "colab": {
          "base_uri": "https://localhost:8080/"
        },
        "id": "QnpJlr3zMrPR",
        "outputId": "7fdc15e8-ead9-4fac-dea9-7eef99406a41"
      },
      "execution_count": null,
      "outputs": [
        {
          "output_type": "stream",
          "name": "stdout",
          "text": [
            "keyboard\n",
            "monitor\n",
            "computer\n",
            "web cam\n",
            "mouse\n"
          ]
        }
      ]
    },
    {
      "cell_type": "markdown",
      "source": [
        "---\n",
        "#### **Problem #1.2**\n",
        "\n",
        "Run the code cell below and observe the output."
      ],
      "metadata": {
        "id": "2SaWsCGrKgqT"
      }
    },
    {
      "cell_type": "code",
      "source": [
        "print('Range 0:', range(10))\n",
        "print('Range 1:', list(range(10)))\n",
        "print('Range 2:', list(range(5, 10)))\n",
        "print('Range 3:', list(range(5, 15, 2)))\n",
        "print('Range 4:', list(range(20, 10, -1)))\n",
        "print('Range 5:', list(range(-20, 15, 5)))"
      ],
      "metadata": {
        "colab": {
          "base_uri": "https://localhost:8080/"
        },
        "id": "GbRU8YFZKq0R",
        "outputId": "65b24ee5-622c-450e-c415-93e4610b1110"
      },
      "execution_count": null,
      "outputs": [
        {
          "output_type": "stream",
          "name": "stdout",
          "text": [
            "Range 0: range(0, 10)\n",
            "Range 1: [0, 1, 2, 3, 4, 5, 6, 7, 8, 9]\n",
            "Range 2: [5, 6, 7, 8, 9]\n",
            "Range 3: [5, 7, 9, 11, 13]\n",
            "Range 4: [20, 19, 18, 17, 16, 15, 14, 13, 12, 11]\n",
            "Range 5: [-20, -15, -10, -5, 0, 5, 10]\n"
          ]
        }
      ]
    },
    {
      "cell_type": "markdown",
      "source": [
        "---\n",
        "#### **Problem #1.3**\n",
        "\n",
        "Print every item in the list on its own line using `range()`."
      ],
      "metadata": {
        "id": "ti9CNvyB07jB"
      }
    },
    {
      "cell_type": "code",
      "source": [
        "stuff = ['keyboard','monitor','computer','web cam','mouse']\n",
        "# COMPLETE THIS CODE"
      ],
      "metadata": {
        "id": "gZ_kBafL07jN"
      },
      "execution_count": null,
      "outputs": []
    },
    {
      "cell_type": "markdown",
      "source": [
        "##### **Solution**"
      ],
      "metadata": {
        "id": "PYxFPrlf07jN"
      }
    },
    {
      "cell_type": "code",
      "source": [
        "stuff = ['keyboard','monitor','computer','web cam','mouse']\n",
        "for i in range(len(stuff)):\n",
        "  print(stuff[i])"
      ],
      "metadata": {
        "colab": {
          "base_uri": "https://localhost:8080/"
        },
        "outputId": "12541e70-07fa-40f3-dd0a-3ac866b623a9",
        "id": "jhbt1-Cm07jN"
      },
      "execution_count": null,
      "outputs": [
        {
          "output_type": "stream",
          "name": "stdout",
          "text": [
            "keyboard\n",
            "monitor\n",
            "computer\n",
            "web cam\n",
            "mouse\n"
          ]
        }
      ]
    },
    {
      "cell_type": "markdown",
      "source": [
        "---\n",
        "#### **Problem #1.4**\n",
        "\n",
        "Calculate the sum of all <u>even</u> numbers between 10 and 36."
      ],
      "metadata": {
        "id": "gDtfzLsy2N9u"
      }
    },
    {
      "cell_type": "code",
      "source": [
        "even_sum = 0\n",
        "\n",
        "# COMPLETE THIS CODE\n",
        "\n",
        "print(even_sum)"
      ],
      "metadata": {
        "id": "mA6q7iuB2ZfK"
      },
      "execution_count": null,
      "outputs": []
    },
    {
      "cell_type": "markdown",
      "source": [
        "##### **Solution**"
      ],
      "metadata": {
        "id": "4kwt8ttc2ZrB"
      }
    },
    {
      "cell_type": "code",
      "source": [
        "even_sum = 0\n",
        "\n",
        "for num in range(10, 37, 2):\n",
        "  even_sum += num\n",
        "\n",
        "print(even_sum)"
      ],
      "metadata": {
        "colab": {
          "base_uri": "https://localhost:8080/"
        },
        "id": "SgQb4BxD2bNT",
        "outputId": "16238070-2ff5-4363-b754-004101ff6e0a"
      },
      "execution_count": null,
      "outputs": [
        {
          "output_type": "stream",
          "name": "stdout",
          "text": [
            "322\n"
          ]
        }
      ]
    },
    {
      "cell_type": "markdown",
      "source": [
        "---\n",
        "#### **Problem #1.5**\n",
        "\n",
        "Create a new list called `b_colors` that only contains the colors in `color_list` that start with the letter **B**."
      ],
      "metadata": {
        "id": "3lpC7kbvO3Tu"
      }
    },
    {
      "cell_type": "code",
      "source": [
        "color_list = ['Red','Burgundy','Scarlet','Orange','Yellow','Green','Cyan','Blue','Navy','Purple','Pink','Brown','Black','Gray','White','Beige']\n",
        "\n",
        "b_colors = []\n",
        "for color in color_list:\n",
        "  # COMPLETE THIS CODE\n",
        "\n",
        "print(b_colors)"
      ],
      "metadata": {
        "id": "9PU9CRRLRRwI"
      },
      "execution_count": null,
      "outputs": []
    },
    {
      "cell_type": "markdown",
      "source": [
        "##### **Solution**"
      ],
      "metadata": {
        "id": "E9lAWE2nRQTO"
      }
    },
    {
      "cell_type": "code",
      "source": [
        "color_list = ['Red','Burgundy','Scarlet','Orange','Yellow','Green','Cyan','Blue','Navy','Purple','Pink','Brown','Black','Gray','White','Beige']\n",
        "\n",
        "b_colors = []\n",
        "for color in color_list:\n",
        "  if color[0] == 'B':\n",
        "    b_colors.append(color)\n",
        "\n",
        "print(b_colors)"
      ],
      "metadata": {
        "colab": {
          "base_uri": "https://localhost:8080/"
        },
        "id": "-Eox0AXRPV1Z",
        "outputId": "16923c41-1f91-4bec-be16-187da4892c7f"
      },
      "execution_count": null,
      "outputs": [
        {
          "output_type": "stream",
          "name": "stdout",
          "text": [
            "['Burgundy', 'Blue', 'Brown', 'Black', 'Beige']\n"
          ]
        }
      ]
    },
    {
      "cell_type": "markdown",
      "source": [
        "---\n",
        "#### **Problem #1.6**\n",
        "\n",
        "Print every 3rd color in the list starting with Red."
      ],
      "metadata": {
        "id": "9JPEhd1NUNuB"
      }
    },
    {
      "cell_type": "code",
      "source": [
        "color_list = ['Red','Burgundy','Scarlet','Orange','Yellow','Green','Cyan','Blue','Navy','Purple','Pink','Brown','Black','Gray','White','Beige']\n",
        "\n",
        "# COMPLETE THIS CODE"
      ],
      "metadata": {
        "id": "UhLLMD5MU-NX"
      },
      "execution_count": null,
      "outputs": []
    },
    {
      "cell_type": "markdown",
      "source": [
        "##### **Solution**"
      ],
      "metadata": {
        "id": "h4MfX5t7U8cI"
      }
    },
    {
      "cell_type": "code",
      "source": [
        "color_list = ['Red','Burgundy','Scarlet','Orange','Yellow','Green','Cyan','Blue','Navy','Purple','Pink','Brown','Black','Gray','White','Beige']\n",
        "\n",
        "for x in range(0,len(color_list),3):\n",
        "  print(color_list[x])"
      ],
      "metadata": {
        "colab": {
          "base_uri": "https://localhost:8080/"
        },
        "id": "2D-I5sseUTD8",
        "outputId": "d1abbcca-611d-4a66-a625-d751bdf1490f"
      },
      "execution_count": null,
      "outputs": [
        {
          "output_type": "stream",
          "name": "stdout",
          "text": [
            "Red\n",
            "Orange\n",
            "Cyan\n",
            "Purple\n",
            "Black\n",
            "Beige\n"
          ]
        }
      ]
    },
    {
      "cell_type": "markdown",
      "source": [
        "<a name=\"p2\"></a>\n",
        "\n",
        "---\n",
        "## **Part 2: Functions**\n",
        "---\n"
      ],
      "metadata": {
        "id": "VaC1_4Me6BWI"
      }
    },
    {
      "cell_type": "markdown",
      "source": [
        "\n",
        "#### **Problem #2.1**\n",
        "\n",
        "Complete the code below so that calling `my_func()` will output `'This is a function'`."
      ],
      "metadata": {
        "id": "98hWKR5MGkBk"
      }
    },
    {
      "cell_type": "code",
      "source": [
        "def my_func():\n",
        "\n",
        "  # COMPLETE THIS LINE\n",
        "\n",
        "my_func()"
      ],
      "metadata": {
        "id": "k_Kzzu3UGseZ"
      },
      "execution_count": null,
      "outputs": []
    },
    {
      "cell_type": "markdown",
      "source": [
        "##### **Solution**"
      ],
      "metadata": {
        "id": "ReFTeG3pGsvB"
      }
    },
    {
      "cell_type": "code",
      "source": [
        "def my_func():\n",
        "  print(\"This is a function.\")\n",
        "\n",
        "my_func()"
      ],
      "metadata": {
        "colab": {
          "base_uri": "https://localhost:8080/"
        },
        "id": "Ps1ETkhoGvDm",
        "outputId": "0e8a8cc0-674b-4c21-9184-c32ace296b82"
      },
      "execution_count": null,
      "outputs": [
        {
          "output_type": "stream",
          "name": "stdout",
          "text": [
            "This is a function.\n"
          ]
        }
      ]
    },
    {
      "cell_type": "markdown",
      "source": [
        "---\n",
        "#### **Problem #2.2**\n",
        "\n",
        "Suppose you work at a smoothie shop that only sells strawberry smoothies but is looking to branch out into other flavors. The process of making each smoothie is the same except for the type of fruit added to the blender.\n",
        "\n",
        "Modify the function so that the flavor of the smoothie can be different any time the function is called."
      ],
      "metadata": {
        "id": "AV2C_a796rU1"
      }
    },
    {
      "cell_type": "code",
      "source": [
        "def make_smoothie():\n",
        "  print('Scoop ice.')\n",
        "  print('Add strawberry fruit to the blender.')\n",
        "  print('Turn on blender.')\n",
        "  print('Pour into cup and add straw. \\n')\n",
        "\n",
        "make_smoothie()"
      ],
      "metadata": {
        "id": "ltP6AMKv8g4G"
      },
      "execution_count": null,
      "outputs": []
    },
    {
      "cell_type": "markdown",
      "source": [
        "##### **Solution**"
      ],
      "metadata": {
        "id": "6DfY6_vy8hIZ"
      }
    },
    {
      "cell_type": "code",
      "source": [
        "def make_smoothie(flavor):\n",
        "  print('Scoop ice.')\n",
        "  print('Add ' + flavor + ' fruit to the blender.')\n",
        "  print('Turn on blender.')\n",
        "  print('Pour into cup and add straw. \\n')\n",
        "\n",
        "make_smoothie('mango')\n",
        "make_smoothie('strawberry')"
      ],
      "metadata": {
        "colab": {
          "base_uri": "https://localhost:8080/"
        },
        "id": "J9KgAsDE8i6s",
        "outputId": "15c9c365-eff7-477a-f28a-2394d87ed13b"
      },
      "execution_count": null,
      "outputs": [
        {
          "output_type": "stream",
          "name": "stdout",
          "text": [
            "Scoop ice.\n",
            "Add mango fruit to the blender.\n",
            "Turn on blender.\n",
            "Pour into cup and add straw. \n",
            "\n",
            "Scoop ice.\n",
            "Add strawberry fruit to the blender.\n",
            "Turn on blender.\n",
            "Pour into cup and add straw. \n",
            "\n"
          ]
        }
      ]
    },
    {
      "cell_type": "markdown",
      "source": [
        "---\n",
        "#### **Problem #2.3**\n",
        "\n",
        "Expanding the flavor menu at the smoothie shop ended up being very popular. Now, customers will often come to order multiple of the same smoothie at once.\n",
        "\n",
        "Complete the function `make_many_smoothies()` so that it calls `make_smoothie()` one time for each item that the customer ordered."
      ],
      "metadata": {
        "id": "Qj9SFLyd9Rft"
      }
    },
    {
      "cell_type": "code",
      "source": [
        "def make_many_smoothies(flavor, quantity):\n",
        "\n",
        "  # COMPLETE THIS CODE\n",
        "\n",
        "\n",
        "make_many_smoothies('pineapple', 3)"
      ],
      "metadata": {
        "id": "NirzSYBJ_EhT"
      },
      "execution_count": null,
      "outputs": []
    },
    {
      "cell_type": "markdown",
      "source": [
        "##### **Solution**"
      ],
      "metadata": {
        "id": "COkblAXA_Ex8"
      }
    },
    {
      "cell_type": "code",
      "source": [
        "def make_many_smoothies(flavor, quantity):\n",
        "  for i in range(quantity):\n",
        "    make_smoothie(flavor)\n",
        "\n",
        "make_many_smoothies('pineapple', 3)"
      ],
      "metadata": {
        "colab": {
          "base_uri": "https://localhost:8080/"
        },
        "id": "8m1keTVX_GIC",
        "outputId": "80eef03b-2d74-45c4-d61f-d3f47ee18b12"
      },
      "execution_count": null,
      "outputs": [
        {
          "output_type": "stream",
          "name": "stdout",
          "text": [
            "Scoop ice.\n",
            "Add pineapple fruit to the blender.\n",
            "Turn on blender.\n",
            "Pour into cup and add straw. \n",
            "\n",
            "Scoop ice.\n",
            "Add pineapple fruit to the blender.\n",
            "Turn on blender.\n",
            "Pour into cup and add straw. \n",
            "\n",
            "Scoop ice.\n",
            "Add pineapple fruit to the blender.\n",
            "Turn on blender.\n",
            "Pour into cup and add straw. \n",
            "\n"
          ]
        }
      ]
    },
    {
      "cell_type": "markdown",
      "source": [
        "---\n",
        "#### **Problem #2.4**\n",
        "\n",
        "Complete the code below to return the area of the rectangle with the given height and length."
      ],
      "metadata": {
        "id": "Dx0kzmkBNyjp"
      }
    },
    {
      "cell_type": "code",
      "source": [
        "def rectangle_area(height, length):\n",
        "\n",
        "  # COMPLETE THIS CODE\n",
        "\n",
        "\n",
        "rectangle_area(3, 5)"
      ],
      "metadata": {
        "id": "npCExi9yNyjp"
      },
      "execution_count": null,
      "outputs": []
    },
    {
      "cell_type": "markdown",
      "source": [
        "##### **Solution**"
      ],
      "metadata": {
        "id": "-X1M_wxdNyjp"
      }
    },
    {
      "cell_type": "code",
      "source": [
        "def rectangle_area(height, length):\n",
        "  return height * length\n",
        "\n",
        "rectangle_area(3, 5)"
      ],
      "metadata": {
        "colab": {
          "base_uri": "https://localhost:8080/"
        },
        "id": "Qu0xaS2GNyjq",
        "outputId": "f8d3b909-63ac-4f6a-8aac-a69d50e9501a"
      },
      "execution_count": null,
      "outputs": [
        {
          "output_type": "execute_result",
          "data": {
            "text/plain": [
              "15"
            ]
          },
          "metadata": {},
          "execution_count": 9
        }
      ]
    },
    {
      "cell_type": "markdown",
      "source": [
        "---\n",
        "#### **Problem #2.5**\n",
        "\n",
        "Python already has built-in `min()` and `max()` functions, but we can create our own versions called `minimum()` and `maximum()`.\n",
        "\n",
        "Complete the code below such that `maximum()` returns the largest of all the numbers in a list."
      ],
      "metadata": {
        "id": "--pdamw3s0Xr"
      }
    },
    {
      "cell_type": "code",
      "source": [
        "def maximum(numbers):\n",
        "  largest = numbers[0]\n",
        "\n",
        "  for num in numbers:\n",
        "    # COMPLETE THIS CODE\n",
        "\n",
        "  return # COMPLETE THIS LINE\n",
        "\n",
        "\n",
        "maximum([65, 86, 9, 42, 102, 13])"
      ],
      "metadata": {
        "id": "fa3T6oX94cL8"
      },
      "execution_count": null,
      "outputs": []
    },
    {
      "cell_type": "markdown",
      "source": [
        "##### **Solution**"
      ],
      "metadata": {
        "id": "zhyuO_S5u95E"
      }
    },
    {
      "cell_type": "code",
      "source": [
        "def maximum(numbers):\n",
        "  largest = numbers[0]\n",
        "  for num in numbers:\n",
        "    if num > largest:\n",
        "      largest = num\n",
        "  return largest\n",
        "\n",
        "maximum([65, 86, 9, 42, 102, 13])"
      ],
      "metadata": {
        "colab": {
          "base_uri": "https://localhost:8080/"
        },
        "id": "GGP41knuu9ms",
        "outputId": "7b1212db-c123-4ba1-c380-17c06bfff2cc"
      },
      "execution_count": null,
      "outputs": [
        {
          "output_type": "execute_result",
          "data": {
            "text/plain": [
              "102"
            ]
          },
          "metadata": {},
          "execution_count": 10
        }
      ]
    },
    {
      "cell_type": "markdown",
      "source": [
        "---\n",
        "#### **Problem #2.6**\n",
        "\n",
        "Complete the code below such that `minimum()` returns the smallest of all the numbers in a list."
      ],
      "metadata": {
        "id": "v46P1tsn4xz2"
      }
    },
    {
      "cell_type": "code",
      "source": [
        "def minimum(numbers):\n",
        "\n",
        "  # COMPLETE THIS CODE\n",
        "\n",
        "\n",
        "minimum([65, 86, 9, 42, 102, 13])"
      ],
      "metadata": {
        "id": "SkKSwY134xz3"
      },
      "execution_count": null,
      "outputs": []
    },
    {
      "cell_type": "markdown",
      "source": [
        "##### **Solution**"
      ],
      "metadata": {
        "id": "S3puwv-w4xz3"
      }
    },
    {
      "cell_type": "code",
      "source": [
        "def minimum(numbers):\n",
        "  smallest = numbers[0]\n",
        "  for num in numbers:\n",
        "    if num < smallest:\n",
        "      smallest = num\n",
        "  return smallest\n",
        "\n",
        "minimum([65, 86, 9, 42, 102, 13])"
      ],
      "metadata": {
        "colab": {
          "base_uri": "https://localhost:8080/"
        },
        "id": "u7mSMWAb4xz3",
        "outputId": "92b2f47d-b905-4255-fbc5-f6dad0590347"
      },
      "execution_count": null,
      "outputs": [
        {
          "output_type": "execute_result",
          "data": {
            "text/plain": [
              "9"
            ]
          },
          "metadata": {},
          "execution_count": 11
        }
      ]
    },
    {
      "cell_type": "markdown",
      "source": [
        "<a name=\"p3\"></a>\n",
        "\n",
        "---\n",
        "## **Part 3: HOMEWORK - Cleaning the Dataset**\n",
        "---\n",
        "\n",
        "\n",
        "**This is a homework section. You are expected to complete this section outside of lab. Your Canvas homework quiz will be based on your solutions to these problems.**\n",
        "\n",
        "#### **About the Dataset**\n",
        "\n",
        "The **US Tornado Dataset** provides a detailed record of tornado occurrences in the United States, including Washington, D.C., Puerto Rico, and the Virgin Islands, spanning from 1950 to 2021. It includes information on each tornado event, such as the date and location (by state, latitude, and longitude), along with the severity of the impact measured by property damage, injuries, and fatalities. The dataset also captures the tornado's path, describing its starting and ending coordinates.\n",
        "\n",
        "\n",
        "\n",
        "- `date` - Contains the month, day, and year of the event (you are welcome to split this into 3 columns).\n",
        "- `state` - The state where the tornado originated.\n",
        "- `damage` - Describes the severity of the destruction.\n",
        "- `injuries`\n",
        "- `fatalities`\n",
        "- `path` - The distance travelled by the tornado.\n",
        "- `width` - Diameter or width of the tornado in yards.\n",
        "- `start_latitude`\n",
        "- `start_longitude`\n",
        "- `end_latitude`\n",
        "- `end_longitude`\n",
        "\n",
        "\n"
      ],
      "metadata": {
        "id": "mG7nqkGUeDmN"
      }
    },
    {
      "cell_type": "markdown",
      "source": [
        "---\n",
        "#### **Problem #3.1** &nbsp; Load the data\n",
        "\n",
        "Use the following code to load the tornado dataset. In the following weeks, we will discuss how to source and load various datasets, as well as the necessary tools to display data in a tabular format. Until then, we will provide this code for you.\n",
        "\n",
        "**If you are encountering unexplainable errors when running any code cell more than once in Part 1, you may need to rerun each cell starting with this one!**"
      ],
      "metadata": {
        "id": "NDUteaGHOAFS"
      }
    },
    {
      "cell_type": "code",
      "source": [
        "import csv\n",
        "import requests\n",
        "\n",
        "url = 'https://raw.githubusercontent.com/the-codingschool/TRAIN-datasets/main/tornado/tornado_data.csv'\n",
        "\n",
        "response = requests.get(url)\n",
        "decoded_content = response.content.decode('utf-8')\n",
        "\n",
        "data = list(csv.reader(decoded_content.splitlines()))\n",
        "\n",
        "# This function prints the data in a readable format. Call this function whenever you want to view the dataset.\n",
        "def print_head(d, num_rows=10):\n",
        "  d = d[:num_rows]\n",
        "  mw = [max(len(str(row[j])) for row in d) for j in range(len(d[0]))]\n",
        "  for i, row in enumerate(d):\n",
        "    print('| '.join(f'{str(value):<{mw[j]}} ' for j, value in enumerate(row)))\n",
        "    if i == 0:\n",
        "      print('-' * (sum(mw) + 3 * (len(mw) - 1)))\n",
        "\n",
        "\n",
        "# The second parameter is optional specifies the number of rows to display, default=10\n",
        "print_head(data, 15)"
      ],
      "metadata": {
        "colab": {
          "base_uri": "https://localhost:8080/"
        },
        "id": "veBnljyNMgl-",
        "outputId": "ca21f341-6f6c-4e82-ca21-5ab428839ad5"
      },
      "execution_count": null,
      "outputs": [
        {
          "output_type": "stream",
          "name": "stdout",
          "text": [
            "date       | state | damage       | injuries | fatalities | path    | width | start_latitude | start_longitude | end_latitude | end_longitude \n",
            "---------------------------------------------------------------------------------------------------------------------------------------------\n",
            "1950-01-03 | IL    | severe       | 3        | 0          | 3.6 mi  | 130   | 39.1           | -89.3           | 39.12        | -89.23        \n",
            "1950-01-03 | MO    | severe       | 3        | 0          | 15.3 km | 150   | 38.77          | -90.22          | 38.83        | -90.03        \n",
            "1950-01-03 | OH    | moderate     | 1        | 0          | 0.1 mi  | 10    | 40.88          | -84.58          |              |               \n",
            "1950-01-13 | ar    | severe       | 1        | 1          | 0.6 mi  | 17    | 34.4           | -94.37          |              |               \n",
            "1950-01-25 | IL    | considerable | 0        | 0          | 0.1 mi  | 100   | 41.17          | -87.33          |              |               \n",
            "1950-01-25 | MO    | considerable | 5        | 0          | 3.7 km  | 300   | 37.6           | -90.68          | 37.63        | -90.65        \n",
            "1950-01-26 | Texas | considerable | 2        | 0          | 4.7 mi  | 133   | 26.88          | -98.12          | 26.88        | -98.05        \n",
            "1950-02-11 | TX    | considerable | 0        | 0          | 15.9 km | 400   | 29.42          | -95.25          | 29.52        | -95.13        \n",
            "1950-02-11 | TX    | considerable | 5        | 0          | 7.4 km  | 100   | 32.35          | -95.2           | 32.42        | -95.2         \n",
            "1950-02-11 | TX    | considerable | 6        | 0          | 7.2 km  | 67    | 32.98          | -94.63          | 33.0         | -94.7         \n",
            "1950-02-11 | TX    | severe       | 12       | 1          | 12.0 mi | 1000  | 29.67          | -95.05          | 29.83        | -95.0         \n",
            "1950-02-12 | AR    | considerable | 0        | 0          | 0.2 km  | 100   | 34.48          | -92.4           |              |               \n",
            "1950-02-12 | ar    | considerable | 0        | 0          | 5.7 mi  | 100   | 33.27          | -92.95          | 33.35        | -92.95        \n",
            "1950-02-12 | LA    | moderate     | 0        | 0          | 0.8 km  | 33    | 32.6           | -91.33          |              |               \n"
          ]
        }
      ]
    },
    {
      "cell_type": "markdown",
      "source": [
        "**What do you notice about this dataset?**\n",
        "\n",
        "\n",
        "This data, despite being rather comprehensive, has many inconsistencies that make it difficult to work with in any meaningful capacity. In this section, your task is to standardize the formatting of the column values using python techniques."
      ],
      "metadata": {
        "id": "T7icmtl8Re4Y"
      }
    },
    {
      "cell_type": "markdown",
      "source": [
        "---\n",
        "#### **Problem #3.2** &nbsp; Fix `state` Column\n",
        "\n",
        "As you may have noticed, the `state` column has inconsistent formatting. Standardizing the `state` column to only be uppercase, 2-character abbreviations will make it much easier to group and analyze the data by state.\n",
        "\n",
        "Use the provided `states` dictionary to match each state's name to its abbreviation.\n",
        "\n",
        "Remember, an uppercase letter is not considered to be equivalent to its lowercase counterpart! A string can be made uppercase using the `upper()` string method: `string = string.upper()`"
      ],
      "metadata": {
        "id": "c28XRdsyH-n9"
      }
    },
    {
      "cell_type": "code",
      "source": [
        "states = {'Alaska': 'AK', 'Alabama': 'AL', 'Arkansas': 'AR', 'Arizona': 'AZ', 'California': 'CA', 'Colorado': 'CO', 'Connecticut': 'CT', 'Delaware': 'DE', 'Florida': 'FL', 'Georgia': 'GA', 'Hawaii': 'HI', 'Iowa': 'IA', 'Idaho': 'ID', 'Illinois': 'IL', 'Indiana': 'IN', 'Kansas': 'KS', 'Kentucky': 'KY', 'Louisiana': 'LA', 'Massachusetts': 'MA', 'Maryland': 'MD', 'Maine': 'ME', 'Michigan': 'MI', 'Minnesota': 'MN', 'Missouri': 'MO', 'Mississippi': 'MS', 'Montana': 'MT', 'Nebraska': 'NE', 'Nevada': 'NV', 'New Hampshire': 'NH', 'New Jersey': 'NJ', 'New Mexico': 'NM', 'New York': 'NY', 'North Carolina': 'NC', 'North Dakota': 'ND', 'Ohio': 'OH', 'Oklahoma': 'OK', 'Oregon': 'OR', 'Pennsylvania': 'PA', 'Rhode Island': 'RI', 'South Carolina': 'SC', 'South Dakota': 'SD', 'Tennessee': 'TN', 'Texas': 'TX', 'Utah': 'UT', 'Vermont': 'VT', 'Virginia': 'VA', 'Washington': 'WA', 'West Virginia': 'WV', 'Wisconsin': 'WI', 'Wyoming': 'WY', 'DC': 'DC', 'Puerto Rico': 'PR', 'Virgin Islands': 'VI'}\n",
        "\n",
        "for row in data[1:]:\n",
        "  if # COMPLETE THIS LINE - if value in state column is only 2 letters long\n",
        "    # COMPLETE THIS LINE - update list value to be uppercase\n",
        "  else:\n",
        "    # COMPLETE THIS LINE - update list value to the corresponding abbr from dictionary\n",
        "\n",
        "\n",
        "print_head(data) # This will display your data so that you can view the changes made"
      ],
      "metadata": {
        "id": "LxQEJ5m8Pv5a"
      },
      "execution_count": null,
      "outputs": []
    },
    {
      "cell_type": "markdown",
      "source": [
        "#####**Solution**"
      ],
      "metadata": {
        "id": "QHQpS4QiPxsx"
      }
    },
    {
      "cell_type": "code",
      "source": [
        "states = {'Alaska': 'AK', 'Alabama': 'AL', 'Arkansas': 'AR', 'Arizona': 'AZ', 'California': 'CA', 'Colorado': 'CO', 'Connecticut': 'CT', 'Delaware': 'DE', 'Florida': 'FL', 'Georgia': 'GA', 'Hawaii': 'HI', 'Iowa': 'IA', 'Idaho': 'ID', 'Illinois': 'IL', 'Indiana': 'IN', 'Kansas': 'KS', 'Kentucky': 'KY', 'Louisiana': 'LA', 'Massachusetts': 'MA', 'Maryland': 'MD', 'Maine': 'ME', 'Michigan': 'MI', 'Minnesota': 'MN', 'Missouri': 'MO', 'Mississippi': 'MS', 'Montana': 'MT', 'Nebraska': 'NE', 'Nevada': 'NV', 'New Hampshire': 'NH', 'New Jersey': 'NJ', 'New Mexico': 'NM', 'New York': 'NY', 'North Carolina': 'NC', 'North Dakota': 'ND', 'Ohio': 'OH', 'Oklahoma': 'OK', 'Oregon': 'OR', 'Pennsylvania': 'PA', 'Rhode Island': 'RI', 'South Carolina': 'SC', 'South Dakota': 'SD', 'Tennessee': 'TN', 'Texas': 'TX', 'Utah': 'UT', 'Vermont': 'VT', 'Virginia': 'VA', 'Washington': 'WA', 'West Virginia': 'WV', 'Wisconsin': 'WI', 'Wyoming': 'WY', 'DC': 'DC', 'Puerto Rico': 'PR', 'Virgin Islands': 'VI'}\n",
        "\n",
        "for row in data[1:]:\n",
        "  if len(row[1]) == 2:\n",
        "    row[1] = row[1].upper()\n",
        "  else:\n",
        "    row[1] = states[row[1]]\n",
        "\n",
        "print_head(data)"
      ],
      "metadata": {
        "colab": {
          "base_uri": "https://localhost:8080/"
        },
        "id": "vB8EO9biIE9u",
        "outputId": "e388cec5-2d71-458e-9e22-76488a3c5002"
      },
      "execution_count": null,
      "outputs": [
        {
          "output_type": "stream",
          "name": "stdout",
          "text": [
            "date       | state | damage       | injuries | fatalities | path    | width | start_latitude | start_longitude | end_latitude | end_longitude \n",
            "---------------------------------------------------------------------------------------------------------------------------------------------\n",
            "1950-01-03 | IL    | severe       | 3        | 0          | 3.6 mi  | 130   | 39.1           | -89.3           | 39.12        | -89.23        \n",
            "1950-01-03 | MO    | severe       | 3        | 0          | 15.3 km | 150   | 38.77          | -90.22          | 38.83        | -90.03        \n",
            "1950-01-03 | OH    | moderate     | 1        | 0          | 0.1 mi  | 10    | 40.88          | -84.58          |              |               \n",
            "1950-01-13 | AR    | severe       | 1        | 1          | 0.6 mi  | 17    | 34.4           | -94.37          |              |               \n",
            "1950-01-25 | IL    | considerable | 0        | 0          | 0.1 mi  | 100   | 41.17          | -87.33          |              |               \n",
            "1950-01-25 | MO    | considerable | 5        | 0          | 3.7 km  | 300   | 37.6           | -90.68          | 37.63        | -90.65        \n",
            "1950-01-26 | TX    | considerable | 2        | 0          | 4.7 mi  | 133   | 26.88          | -98.12          | 26.88        | -98.05        \n",
            "1950-02-11 | TX    | considerable | 0        | 0          | 15.9 km | 400   | 29.42          | -95.25          | 29.52        | -95.13        \n",
            "1950-02-11 | TX    | considerable | 5        | 0          | 7.4 km  | 100   | 32.35          | -95.2           | 32.42        | -95.2         \n"
          ]
        }
      ]
    },
    {
      "cell_type": "markdown",
      "source": [
        "---\n",
        "#### **Problem #3.3** &nbsp; Fix `damage` Column\n",
        "\n",
        "The terms used in the `damage` column to describe the level of destruction caused by a tornado are difficult to quantify and would be essentially meaningless to any computer (computers work better with numbers). A numerical equivalent (such as the corresponding EF rating!) would be much more appropriate.\n",
        "\n",
        "The `damage` sustained during a tornado corresponds to an assigned rating on the **Enhanced Fujita Scale (EF)**.\n",
        "\n",
        "| Rating | Wind Speed | Damage |\n",
        "| :----: | ---------- | ------ |\n",
        "| EF0 | 65 - 85 mph | Light |\n",
        "| EF1 | 85 - 110 mph | Moderate |\n",
        "| EF2 | 111 - 135 mph | Considerable |\n",
        "| EF3 | 136 - 165 mph | Severe |\n",
        "| EF4 | 166 - 200 mph | Devastating |\n",
        "| EF5 | > 200 mph | Incredible |\n",
        "\n",
        "After making your modifications, consider updating the column name to `ef_rating` since `damage` no longer accurately describes the data in the column."
      ],
      "metadata": {
        "id": "jCIDdmHPJ4VD"
      }
    },
    {
      "cell_type": "code",
      "source": [
        "ef = {'light':0, 'moderate':1, 'considerable':2, 'severe':3, 'devastating':4, 'incredible':5, 'NA':None}\n",
        "\n",
        "# COMPLETE THE REST OF THIS CODE\n",
        "\n",
        "print_head(data)"
      ],
      "metadata": {
        "id": "a568b4w-Zi3c"
      },
      "execution_count": null,
      "outputs": []
    },
    {
      "cell_type": "markdown",
      "source": [
        "#####**Solution**"
      ],
      "metadata": {
        "id": "TbP_mb2FSVJk"
      }
    },
    {
      "cell_type": "code",
      "source": [
        "ef = {'light':0, 'moderate':1, 'considerable':2, 'severe':3, 'devastating':4, 'incredible':5, 'NA':None}\n",
        "\n",
        "data[0][2] = 'ef_rating'\n",
        "\n",
        "for row in data[1:]:\n",
        "  row[2] = ef[row[2]]\n",
        "\n",
        "print_head(data)"
      ],
      "metadata": {
        "colab": {
          "base_uri": "https://localhost:8080/"
        },
        "id": "UABVq52JJ_2z",
        "outputId": "09edd2f7-8df7-407d-b5de-19bb85f4841f"
      },
      "execution_count": null,
      "outputs": [
        {
          "output_type": "stream",
          "name": "stdout",
          "text": [
            "date       | state | ef_rating | injuries | fatalities | path    | width | start_latitude | start_longitude | end_latitude | end_longitude \n",
            "------------------------------------------------------------------------------------------------------------------------------------------\n",
            "1950-01-03 | IL    | 3         | 3        | 0          | 3.6 mi  | 130   | 39.1           | -89.3           | 39.12        | -89.23        \n",
            "1950-01-03 | MO    | 3         | 3        | 0          | 15.3 km | 150   | 38.77          | -90.22          | 38.83        | -90.03        \n",
            "1950-01-03 | OH    | 1         | 1        | 0          | 0.1 mi  | 10    | 40.88          | -84.58          |              |               \n",
            "1950-01-13 | AR    | 3         | 1        | 1          | 0.6 mi  | 17    | 34.4           | -94.37          |              |               \n",
            "1950-01-25 | IL    | 2         | 0        | 0          | 0.1 mi  | 100   | 41.17          | -87.33          |              |               \n",
            "1950-01-25 | MO    | 2         | 5        | 0          | 3.7 km  | 300   | 37.6           | -90.68          | 37.63        | -90.65        \n",
            "1950-01-26 | TX    | 2         | 2        | 0          | 4.7 mi  | 133   | 26.88          | -98.12          | 26.88        | -98.05        \n",
            "1950-02-11 | TX    | 2         | 0        | 0          | 15.9 km | 400   | 29.42          | -95.25          | 29.52        | -95.13        \n",
            "1950-02-11 | TX    | 2         | 5        | 0          | 7.4 km  | 100   | 32.35          | -95.2           | 32.42        | -95.2         \n"
          ]
        }
      ]
    },
    {
      "cell_type": "markdown",
      "source": [
        "---\n",
        "#### **Problem #3.4** &nbsp; Fix `path` Column\n",
        "\n",
        "A `path` is the measured distance that a tornado covers from its formation to its dissipation. Pay close attention to the units used in each measurement. Measurements can not be fairly compared unless they share the same units! Update every value in this column so that they are all float values (without units attached). It's up to you to decide if every value should be in miles or kilometers.\n",
        "\n",
        "**Conversion:** `1 mile (mi) = 1.609344 kilometers (km)` <br>\n",
        "*Rounding all calculated conversions is recommended.*"
      ],
      "metadata": {
        "id": "BCY-2lyTJ0Hp"
      }
    },
    {
      "cell_type": "code",
      "source": [
        "# COMPLETE THIS CODE"
      ],
      "metadata": {
        "id": "G2S78pcNSnZc"
      },
      "execution_count": null,
      "outputs": []
    },
    {
      "cell_type": "markdown",
      "source": [
        "#####**Solution**"
      ],
      "metadata": {
        "id": "cfkxtwaaSny2"
      }
    },
    {
      "cell_type": "code",
      "source": [
        "for row in data[1:]:\n",
        "  path = row[5].split(' ')\n",
        "  if path[1] == 'km':\n",
        "    row[5] = round(float(path[0]) / 1.609344, 1) # this solution converts kilometers to miles\n",
        "  else:\n",
        "    row[5] = float(path[0])\n",
        "\n",
        "print_head(data)"
      ],
      "metadata": {
        "colab": {
          "base_uri": "https://localhost:8080/"
        },
        "id": "E3eSGX2OJ4AF",
        "outputId": "73688b67-702e-48f7-aecf-f48efb739b05"
      },
      "execution_count": null,
      "outputs": [
        {
          "output_type": "stream",
          "name": "stdout",
          "text": [
            "date       | state | ef_rating | injuries | fatalities | path | width | start_latitude | start_longitude | end_latitude | end_longitude \n",
            "---------------------------------------------------------------------------------------------------------------------------------------\n",
            "1950-01-03 | IL    | 3         | 3        | 0          | 3.6  | 130   | 39.1           | -89.3           | 39.12        | -89.23        \n",
            "1950-01-03 | MO    | 3         | 3        | 0          | 9.5  | 150   | 38.77          | -90.22          | 38.83        | -90.03        \n",
            "1950-01-03 | OH    | 1         | 1        | 0          | 0.1  | 10    | 40.88          | -84.58          |              |               \n",
            "1950-01-13 | AR    | 3         | 1        | 1          | 0.6  | 17    | 34.4           | -94.37          |              |               \n",
            "1950-01-25 | IL    | 2         | 0        | 0          | 0.1  | 100   | 41.17          | -87.33          |              |               \n",
            "1950-01-25 | MO    | 2         | 5        | 0          | 2.3  | 300   | 37.6           | -90.68          | 37.63        | -90.65        \n",
            "1950-01-26 | TX    | 2         | 2        | 0          | 4.7  | 133   | 26.88          | -98.12          | 26.88        | -98.05        \n",
            "1950-02-11 | TX    | 2         | 0        | 0          | 9.9  | 400   | 29.42          | -95.25          | 29.52        | -95.13        \n",
            "1950-02-11 | TX    | 2         | 5        | 0          | 4.6  | 100   | 32.35          | -95.2           | 32.42        | -95.2         \n"
          ]
        }
      ]
    },
    {
      "cell_type": "markdown",
      "source": [
        "---\n",
        "#### **Problem #3.5** &nbsp; Convert the columns to numerical data\n",
        "\n",
        "Before we move on to Part 2: Analyzing the Data, we want to ensure that our numerical columns are either integers or floats. As you'll see in the next section, this will facilitate our data analysis. Remember, we can not perform calculations on numbers that are formatted as strings!\n",
        "\n",
        "`123 + 45 = 168` &nbsp; | &nbsp; `\"123\" + \"45\" = \"12345\"` &nbsp; | &nbsp; `\"123\" + 45 = Error!`\n",
        "\n",
        "Below is a function that accepts 3 arguments: a dataset, a column_name, and the num_type (either `int` or `float`). Call this function to convert any string columns to a numerical data type.\n",
        "\n",
        "**Hint:** The data in the `injuries`, `fatalities`, `width`, `start_latitude`, `start_longitude`, `end_latitude`, and `end_longitude` columns are currently strings.\n"
      ],
      "metadata": {
        "id": "sl7HhRimS7hu"
      }
    },
    {
      "cell_type": "code",
      "source": [
        "def convert_str_col(dataset, column_name, num_type):\n",
        "  col_idx = dataset[0].index(column_name)     # Gets the index number that corresponds to column name\n",
        "  for row in dataset[1:]:\n",
        "    if len(row[col_idx]) == 0:\n",
        "      row[col_idx] = None                     # Empty strings are replaced with None\n",
        "    else:\n",
        "      row[col_idx] = num_type(row[col_idx])   # Converts the string to the specified numerical type\n",
        "  return dataset"
      ],
      "metadata": {
        "id": "4Exoe-s1UkeA"
      },
      "execution_count": null,
      "outputs": []
    },
    {
      "cell_type": "code",
      "source": [
        "data = convert_str_col(data, \"injuries\", int)\n",
        "\n",
        "# COMPLETE THE REST OF THIS CODE\n",
        "\n",
        "print_head(data)"
      ],
      "metadata": {
        "id": "-Xg7IwK8Ulv_"
      },
      "execution_count": null,
      "outputs": []
    },
    {
      "cell_type": "markdown",
      "source": [
        "#####**Solution**"
      ],
      "metadata": {
        "id": "3jB0FjBjUiZd"
      }
    },
    {
      "cell_type": "code",
      "source": [
        "data = convert_str_col(data, \"injuries\", int)\n",
        "data = convert_str_col(data, \"fatalities\", int)\n",
        "data = convert_str_col(data, \"width\", int)\n",
        "data = convert_str_col(data, \"start_latitude\", float)\n",
        "data = convert_str_col(data, \"start_longitude\", float)\n",
        "data = convert_str_col(data, \"end_latitude\", float)\n",
        "data = convert_str_col(data, \"end_longitude\", float)\n",
        "print_head(data)"
      ],
      "metadata": {
        "colab": {
          "base_uri": "https://localhost:8080/"
        },
        "id": "53sl5f9fuIMj",
        "outputId": "b5768e46-60a8-446a-9c4f-71c9e274dc62"
      },
      "execution_count": null,
      "outputs": [
        {
          "output_type": "stream",
          "name": "stdout",
          "text": [
            "date       | state | ef_rating | injuries | fatalities | path | width | start_latitude | start_longitude | end_latitude | end_longitude \n",
            "---------------------------------------------------------------------------------------------------------------------------------------\n",
            "1950-01-03 | IL    | 3         | 3        | 0          | 3.6  | 130   | 39.1           | -89.3           | 39.12        | -89.23        \n",
            "1950-01-03 | MO    | 3         | 3        | 0          | 9.5  | 150   | 38.77          | -90.22          | 38.83        | -90.03        \n",
            "1950-01-03 | OH    | 1         | 1        | 0          | 0.1  | 10    | 40.88          | -84.58          | None         | None          \n",
            "1950-01-13 | AR    | 3         | 1        | 1          | 0.6  | 17    | 34.4           | -94.37          | None         | None          \n",
            "1950-01-25 | IL    | 2         | 0        | 0          | 0.1  | 100   | 41.17          | -87.33          | None         | None          \n",
            "1950-01-25 | MO    | 2         | 5        | 0          | 2.3  | 300   | 37.6           | -90.68          | 37.63        | -90.65        \n",
            "1950-01-26 | TX    | 2         | 2        | 0          | 4.7  | 133   | 26.88          | -98.12          | 26.88        | -98.05        \n",
            "1950-02-11 | TX    | 2         | 0        | 0          | 9.9  | 400   | 29.42          | -95.25          | 29.52        | -95.13        \n",
            "1950-02-11 | TX    | 2         | 5        | 0          | 4.6  | 100   | 32.35          | -95.2           | 32.42        | -95.2         \n"
          ]
        }
      ]
    },
    {
      "cell_type": "markdown",
      "source": [
        "<a name=\"p4\"></a>\n",
        "\n",
        "---\n",
        "## **Part 4: HOMEWORK - Analyzing the Data**\n",
        "---\n",
        "\n",
        "\n",
        "**This is a homework section. You are expected to complete this section outside of lab. Your Canvas homework quiz will be based on your solutions to these problems.**\n",
        "\n",
        "In this section, your task is to create and utilize functions that implement basic statistical analysis techniques."
      ],
      "metadata": {
        "id": "YjcsCWk_7KFb"
      }
    },
    {
      "cell_type": "markdown",
      "source": [
        "---\n",
        "#### **Problem #4.1**\n",
        "\n",
        "Let's do some data analysis on the data in the `width` column. First, we should compile all of the values in that column into a single list using a loop. You should exclude the column name that exists in the first row of the dataset by skipping it in your loop."
      ],
      "metadata": {
        "id": "NuMBhjFMsoQd"
      }
    },
    {
      "cell_type": "code",
      "source": [
        "col_data = []\n",
        "\n",
        "for # COMPLETE THIS LINE  (loop through all rows except the first)\n",
        "  # COMPLETE THIS LINE    (add the 6th item in each row to the list)\n",
        "\n",
        "print(col_data[:10]) # prints the first 10 values in the column"
      ],
      "metadata": {
        "id": "F4cwvTb1twS5"
      },
      "execution_count": null,
      "outputs": []
    },
    {
      "cell_type": "markdown",
      "source": [
        "##### **Solution**"
      ],
      "metadata": {
        "id": "qH0xZ9dIvE6h"
      }
    },
    {
      "cell_type": "code",
      "source": [
        "col_data = []\n",
        "for row in data[1:]:\n",
        "  col_data.append(row[6])\n",
        "\n",
        "print(col_data[:10])"
      ],
      "metadata": {
        "colab": {
          "base_uri": "https://localhost:8080/"
        },
        "id": "wmmNY605vGX7",
        "outputId": "5037647c-a4f7-41bc-b1ea-f5759228b4c7"
      },
      "execution_count": null,
      "outputs": [
        {
          "output_type": "stream",
          "name": "stdout",
          "text": [
            "[130, 150, 10, 17, 100, 300, 133, 400, 100, 67]\n"
          ]
        }
      ]
    },
    {
      "cell_type": "markdown",
      "source": [
        "---\n",
        "#### **Problem #4.2**\n",
        "\n",
        "Find the smallest and largest values in `col_data` using your `minimum()` and `maximum()` functions from Part 2."
      ],
      "metadata": {
        "id": "l3SFa5MkxppL"
      }
    },
    {
      "cell_type": "code",
      "source": [
        "smallest_width = # COMPLETE THIS LINE\n",
        "largest_width = # COMPLETE THIS LINE\n",
        "\n",
        "print('The smallest tornado width recorded was', smallest_width, 'yards.')\n",
        "print('The largest tornado width recorded was', largest_width, 'yards.')"
      ],
      "metadata": {
        "id": "RKamV907yYUZ"
      },
      "execution_count": null,
      "outputs": []
    },
    {
      "cell_type": "markdown",
      "source": [
        "##### **Solution**"
      ],
      "metadata": {
        "id": "gKwFFeIVyySQ"
      }
    },
    {
      "cell_type": "code",
      "source": [
        "smallest_width = minimum(col_data)\n",
        "largest_width = maximum(col_data)\n",
        "\n",
        "print('The smallest tornado width recorded was', smallest_width, 'yards.')\n",
        "print('The largest tornado width recorded was', largest_width, 'yards.')"
      ],
      "metadata": {
        "colab": {
          "base_uri": "https://localhost:8080/"
        },
        "id": "qbEhCDT2yzn8",
        "outputId": "a9500776-5420-4950-d38c-79e08ffed4cd"
      },
      "execution_count": null,
      "outputs": [
        {
          "output_type": "stream",
          "name": "stdout",
          "text": [
            "The smallest tornado width recorded was 0 yards.\n",
            "The largest tornado width recorded was 4576 yards.\n"
          ]
        }
      ]
    },
    {
      "cell_type": "markdown",
      "source": [
        "---\n",
        "#### **Problem #4.3**\n",
        "\n",
        "Using `col_data`, compute the mean (average) width. <br>\n",
        "The `sum()` and `len()` functions will be helpful here."
      ],
      "metadata": {
        "id": "3bn2J7gruWhA"
      }
    },
    {
      "cell_type": "code",
      "source": [
        "mean = # COMPLETE THIS LINE\n",
        "\n",
        "print('Mean tornado width is', mean, 'yards.')"
      ],
      "metadata": {
        "id": "8os-1Yp6uqlx"
      },
      "execution_count": null,
      "outputs": []
    },
    {
      "cell_type": "markdown",
      "source": [
        "##### **Solution**"
      ],
      "metadata": {
        "id": "ZrW1x7z7wWbf"
      }
    },
    {
      "cell_type": "code",
      "source": [
        "mean = sum(col_data) / len(col_data)\n",
        "\n",
        "print('Mean tornado width is', mean, 'yards.')"
      ],
      "metadata": {
        "colab": {
          "base_uri": "https://localhost:8080/"
        },
        "id": "xinmsA15wXxu",
        "outputId": "4b12f724-378e-457b-e301-5465f46336a4"
      },
      "execution_count": null,
      "outputs": [
        {
          "output_type": "stream",
          "name": "stdout",
          "text": [
            "Mean tornado width is 106.57703010746322 yards.\n"
          ]
        }
      ]
    },
    {
      "cell_type": "markdown",
      "source": [
        "---\n",
        "#### **Problem #4.4**\n",
        "\n",
        "We want to be able to get the column data and perform the mean calculation on other columns as well. Instead of rewriting the same code many times, let's move the logic from Problems #4.1 and #4.3 into their own functions:\n",
        "\n",
        "- `get_column_data()` - Will accept the entire dataset and desired column name (string) as parameters and return a list containing of all the values in the specified column. This function already includes a line of code that will locate the index of a column based on its name to makes things easier for you.\n",
        "\n",
        "- `mean()` - Will accept the entire dataset and desired column name (string) as parameters and return the calculated mean as a single number. This function should call `get_column_data()` and pass the parameters to it.\n",
        "\n",
        "Test your functions by calling the `mean()` function to find the mean of the `width` column and verify that the output matches your output from Problem #4.3."
      ],
      "metadata": {
        "id": "PslP9kQvwhnA"
      }
    },
    {
      "cell_type": "code",
      "source": [
        "def get_column_data(dataset, column_name):\n",
        "  col_idx = dataset[0].index(column_name) # this locates the index of a column given its string name\n",
        "\n",
        "  # YOUR CODE FROM PROBLEM #4.1 GOES HERE - MODIFY WITH col_idx VARIABLE\n",
        "\n",
        "  return col_data\n",
        "\n",
        "\n",
        "def mean(dataset, column_name):\n",
        "  # CALL THE get_column_data() FUNCTION\n",
        "\n",
        "  # REPLICATE YOUR LOGIC FROM PROBLEM #4.3 HERE\n",
        "\n",
        "  return mean\n",
        "\n",
        "\n",
        "print('Mean tornado width is', mean(data, 'width'), 'yards.')"
      ],
      "metadata": {
        "id": "ua5EvDmwxziz"
      },
      "execution_count": null,
      "outputs": []
    },
    {
      "cell_type": "markdown",
      "source": [
        "##### **Solution**"
      ],
      "metadata": {
        "id": "S_eyTWPsx-dH"
      }
    },
    {
      "cell_type": "code",
      "source": [
        "def get_column_data(dataset, column_name):\n",
        "  col_idx = dataset[0].index(column_name)\n",
        "  col_data = []\n",
        "  for row in dataset[1:]:\n",
        "    col_data.append(row[col_idx])\n",
        "  return col_data\n",
        "\n",
        "def mean(dataset, column_name):\n",
        "  vals = get_column_data(dataset, column_name)\n",
        "  return sum(vals) / len(vals)\n",
        "\n",
        "print('Mean tornado width is', mean(data, 'width'), 'yards.')"
      ],
      "metadata": {
        "colab": {
          "base_uri": "https://localhost:8080/"
        },
        "id": "c5gT8VD5x_6F",
        "outputId": "130fa722-fdaf-4acd-f2fa-bd483b184b26"
      },
      "execution_count": null,
      "outputs": [
        {
          "output_type": "stream",
          "name": "stdout",
          "text": [
            "Mean tornado width is 106.57703010746322 yards.\n"
          ]
        }
      ]
    },
    {
      "cell_type": "markdown",
      "source": [
        "# **Part 5: OPTIONAL - Analyzing the Data pt. 2**\n",
        "\n",
        "These additional problems are optional. If you have time, we encourage you to give them a try!"
      ],
      "metadata": {
        "id": "MNiTY2Fintbn"
      }
    },
    {
      "cell_type": "markdown",
      "source": [
        "---\n",
        "#### **Problem #5.1**\n",
        "\n",
        "Calculate the mean of the `injuries`, `path`, and `ef_rating` columns using your new function.\n",
        "\n",
        "Do your functions run properly for each of these columns? If any throw an error, assess why you think that might be happening before moving on to the next problem."
      ],
      "metadata": {
        "id": "mYYQE2kn1dpa"
      }
    },
    {
      "cell_type": "code",
      "source": [
        "# COMPLETE THIS CODE"
      ],
      "metadata": {
        "id": "V2SPMs9n2Daw"
      },
      "execution_count": null,
      "outputs": []
    },
    {
      "cell_type": "markdown",
      "source": [
        "##### **Solution**"
      ],
      "metadata": {
        "id": "yHC3NMbY2Gqx"
      }
    },
    {
      "cell_type": "code",
      "source": [
        "print(\"The mean number of injuries is\", mean(data, 'injuries'), \"per tornado event.\")\n",
        "print(\"On average, the distance covered by a tornado's path is\", mean(data, 'path'), \"miles.\") # or kilometers if the student chose that\n",
        "print(\"The average intensity of tornados in the US is\", mean(data, 'ef_rating'), \"on the EF scale.\") # this line should error!"
      ],
      "metadata": {
        "colab": {
          "base_uri": "https://localhost:8080/",
          "height": 376
        },
        "id": "cv7aJqeQ2IHO",
        "outputId": "650ae36a-043a-4965-eb1e-4ad8aceec548"
      },
      "execution_count": null,
      "outputs": [
        {
          "output_type": "stream",
          "name": "stdout",
          "text": [
            "The mean number of injuries is 1.437875603185411 per tornado event.\n",
            "On average, the distance covered by a tornado's path is 3.478106663904713 miles.\n"
          ]
        },
        {
          "output_type": "error",
          "ename": "TypeError",
          "evalue": "unsupported operand type(s) for +: 'int' and 'NoneType'",
          "traceback": [
            "\u001b[0;31m---------------------------------------------------------------------------\u001b[0m",
            "\u001b[0;31mTypeError\u001b[0m                                 Traceback (most recent call last)",
            "\u001b[0;32m<ipython-input-23-a81a0cbca31b>\u001b[0m in \u001b[0;36m<cell line: 3>\u001b[0;34m()\u001b[0m\n\u001b[1;32m      1\u001b[0m \u001b[0mprint\u001b[0m\u001b[0;34m(\u001b[0m\u001b[0;34m\"The mean number of injuries is\"\u001b[0m\u001b[0;34m,\u001b[0m \u001b[0mmean\u001b[0m\u001b[0;34m(\u001b[0m\u001b[0mdata\u001b[0m\u001b[0;34m,\u001b[0m \u001b[0;34m'injuries'\u001b[0m\u001b[0;34m)\u001b[0m\u001b[0;34m,\u001b[0m \u001b[0;34m\"per tornado event.\"\u001b[0m\u001b[0;34m)\u001b[0m\u001b[0;34m\u001b[0m\u001b[0;34m\u001b[0m\u001b[0m\n\u001b[1;32m      2\u001b[0m \u001b[0mprint\u001b[0m\u001b[0;34m(\u001b[0m\u001b[0;34m\"On average, the distance covered by a tornado's path is\"\u001b[0m\u001b[0;34m,\u001b[0m \u001b[0mmean\u001b[0m\u001b[0;34m(\u001b[0m\u001b[0mdata\u001b[0m\u001b[0;34m,\u001b[0m \u001b[0;34m'path'\u001b[0m\u001b[0;34m)\u001b[0m\u001b[0;34m,\u001b[0m \u001b[0;34m\"miles.\"\u001b[0m\u001b[0;34m)\u001b[0m \u001b[0;31m# or kilometers if the student chose that\u001b[0m\u001b[0;34m\u001b[0m\u001b[0;34m\u001b[0m\u001b[0m\n\u001b[0;32m----> 3\u001b[0;31m \u001b[0mprint\u001b[0m\u001b[0;34m(\u001b[0m\u001b[0;34m\"The average intensity of tornados in the US is\"\u001b[0m\u001b[0;34m,\u001b[0m \u001b[0mmean\u001b[0m\u001b[0;34m(\u001b[0m\u001b[0mdata\u001b[0m\u001b[0;34m,\u001b[0m \u001b[0;34m'ef_rating'\u001b[0m\u001b[0;34m)\u001b[0m\u001b[0;34m,\u001b[0m \u001b[0;34m\"on the EF scale.\"\u001b[0m\u001b[0;34m)\u001b[0m \u001b[0;31m# this line should error!\u001b[0m\u001b[0;34m\u001b[0m\u001b[0;34m\u001b[0m\u001b[0m\n\u001b[0m",
            "\u001b[0;32m<ipython-input-22-49a7dff47b06>\u001b[0m in \u001b[0;36mmean\u001b[0;34m(dataset, column_name)\u001b[0m\n\u001b[1;32m      8\u001b[0m \u001b[0;32mdef\u001b[0m \u001b[0mmean\u001b[0m\u001b[0;34m(\u001b[0m\u001b[0mdataset\u001b[0m\u001b[0;34m,\u001b[0m \u001b[0mcolumn_name\u001b[0m\u001b[0;34m)\u001b[0m\u001b[0;34m:\u001b[0m\u001b[0;34m\u001b[0m\u001b[0;34m\u001b[0m\u001b[0m\n\u001b[1;32m      9\u001b[0m   \u001b[0mvals\u001b[0m \u001b[0;34m=\u001b[0m \u001b[0mget_column_data\u001b[0m\u001b[0;34m(\u001b[0m\u001b[0mdataset\u001b[0m\u001b[0;34m,\u001b[0m \u001b[0mcolumn_name\u001b[0m\u001b[0;34m)\u001b[0m\u001b[0;34m\u001b[0m\u001b[0;34m\u001b[0m\u001b[0m\n\u001b[0;32m---> 10\u001b[0;31m   \u001b[0;32mreturn\u001b[0m \u001b[0msum\u001b[0m\u001b[0;34m(\u001b[0m\u001b[0mvals\u001b[0m\u001b[0;34m)\u001b[0m \u001b[0;34m/\u001b[0m \u001b[0mlen\u001b[0m\u001b[0;34m(\u001b[0m\u001b[0mvals\u001b[0m\u001b[0;34m)\u001b[0m\u001b[0;34m\u001b[0m\u001b[0;34m\u001b[0m\u001b[0m\n\u001b[0m\u001b[1;32m     11\u001b[0m \u001b[0;34m\u001b[0m\u001b[0m\n\u001b[1;32m     12\u001b[0m \u001b[0mprint\u001b[0m\u001b[0;34m(\u001b[0m\u001b[0;34m'Mean tornado width is'\u001b[0m\u001b[0;34m,\u001b[0m \u001b[0mmean\u001b[0m\u001b[0;34m(\u001b[0m\u001b[0mdata\u001b[0m\u001b[0;34m,\u001b[0m \u001b[0;34m'width'\u001b[0m\u001b[0;34m)\u001b[0m\u001b[0;34m,\u001b[0m \u001b[0;34m'yards.'\u001b[0m\u001b[0;34m)\u001b[0m\u001b[0;34m\u001b[0m\u001b[0;34m\u001b[0m\u001b[0m\n",
            "\u001b[0;31mTypeError\u001b[0m: unsupported operand type(s) for +: 'int' and 'NoneType'"
          ]
        }
      ]
    },
    {
      "cell_type": "markdown",
      "source": [
        "---\n",
        "#### **Problem #5.2**\n",
        "\n",
        "Have you determined the cause of the error in the previous problem? <br>\n",
        "It may have something to do with the data itself!\n",
        "\n",
        "You may have noticed that some of the columns have missing values. In Python, the `None` keyword is used to define a null value, or no value at all. It is a separate data type that can **not** be combined with or added to other types (`int`/`float`/`str`/etc).\n",
        "\n",
        "In data science, it is common to either replace these empty values with estimates or remove the row entirely. A few inconsistencies should not hinder us from learning what we can about the data we actually have!\n",
        "\n",
        "Let's write a function called `drop_incomplete_rows()` that accepts the entire dataset as a parameter, uses a loop to build a new subset of the data that excludes any rows with missing values, and returns the new subset. We can determine whether a row has missing values on the condition that `None` exists *in* the row.\n",
        "\n",
        "```python\n",
        "# Examples of determining the existance of None in a list\n",
        "print( None in ['apple', 'banana', 'strawberry'] )\n",
        ">>> False\n",
        "print( None in [123, 45, None, 678] )\n",
        ">>> True\n",
        "print( None not in ['eye', '<3', 'U', 3000] )\n",
        ">>> True\n",
        "```\n",
        "\n",
        "If your code works, you should observe a decrease in the number of rows in the data. Then, rerun your code from the previous problem to resolve the error."
      ],
      "metadata": {
        "id": "-j9WvQu24WOO"
      }
    },
    {
      "cell_type": "code",
      "source": [
        "def drop_incomplete_rows(dataset):\n",
        "  subset = []\n",
        "\n",
        "  for # COMPLETE THIS LINE   (loop through all rows including column names)\n",
        "    if # COMPLETE THIS LINE  (verify that None does NOT exist in the row)\n",
        "      # COMPLETE THIS LINE   (add row to subset)\n",
        "\n",
        "  return # COMPLETE THIS LINE\n",
        "\n",
        "\n",
        "# Testing the code (not part of the function)\n",
        "print('Number of rows before drop:', len(data))\n",
        "data = drop_incomplete_rows(data)\n",
        "print('Number of rows after drop: ', len(data))"
      ],
      "metadata": {
        "id": "nlW6rzbQ71pd"
      },
      "execution_count": null,
      "outputs": []
    },
    {
      "cell_type": "markdown",
      "source": [
        "##### **Solution**"
      ],
      "metadata": {
        "id": "NkicDWBn_xrC"
      }
    },
    {
      "cell_type": "code",
      "source": [
        "def drop_incomplete_rows(dataset):\n",
        "  subset = []\n",
        "  for row in dataset:\n",
        "    if None not in row:\n",
        "      subset.append(row)\n",
        "  return subset\n",
        "\n",
        "\n",
        "print('Number of rows before drop:', len(data))\n",
        "data = drop_incomplete_rows(data)\n",
        "print('Number of rows after drop: ', len(data))"
      ],
      "metadata": {
        "colab": {
          "base_uri": "https://localhost:8080/"
        },
        "id": "amAsrbZa_zI4",
        "outputId": "9e40b0b1-5133-4765-c2d0-b0877ec9b194"
      },
      "execution_count": null,
      "outputs": [
        {
          "output_type": "stream",
          "name": "stdout",
          "text": [
            "Number of rows before drop: 67559\n",
            "Number of rows after drop:  40591\n"
          ]
        }
      ]
    },
    {
      "cell_type": "markdown",
      "source": [
        "---\n",
        "#### **Problem #5.3**\n",
        "\n",
        "Write a function to compute the variance of a column with numerical data. This function should accept the entire dataset and desired column name (string) as parameters and return the calculated variance as a single number.\n",
        "\n",
        "> **Variance** measures how spread out the values in a dataset are from the mean. It gives an idea of the degree of variation or dispersion and is represented by the following equation:\n",
        ">\n",
        "> $$\\text{Variance} = \\frac{1}{n} \\sum_{i=1}^{n} (x_i - \\mu_X)^2 = \\frac{\\text{sum } (\\text{ }(\\text{each data point} - \\text{mean})^2 \\text{ })}{\\text{total number of points}}$$\n",
        "\n",
        "This will require us to find the mean of the column first. Then, we'll need to iterate over each value or data point in the column, subtract the mean, and square the result. Each of these calculations must be added together before dividing by the number of values in the column to get an average.\n",
        "\n",
        "Test the function on the `width` column. The result sould be around **`60917.52`**."
      ],
      "metadata": {
        "id": "RLp51DWiLc9c"
      }
    },
    {
      "cell_type": "code",
      "source": [
        "def # COMPLETE THIS LINE\n",
        "\n",
        "  column_mean = # COMPLETE THIS LINE  (call function)\n",
        "  column_data = # COMPLETE THIS LINE  (call function)\n",
        "\n",
        "  squared_diff = # THIS CAN EITHER BE A RUNNING SUM OR A LIST (0 or [])\n",
        "\n",
        "  for val in column_data:\n",
        "    # SUBTRACT column_mean FROM val AND SQUARE RESULT\n",
        "    # ADD TO squared_diff\n",
        "\n",
        "  variance = # COMPLETE THIS LINE - divide sum by length of column data\n",
        "\n",
        "  return # COMPLETE THIS LINE"
      ],
      "metadata": {
        "id": "BMBkvyRrPewC"
      },
      "execution_count": null,
      "outputs": []
    },
    {
      "cell_type": "markdown",
      "source": [
        "##### **Solution**"
      ],
      "metadata": {
        "id": "CcChbJUKSIka"
      }
    },
    {
      "cell_type": "code",
      "source": [
        "def variance(dataset, column_name):\n",
        "  column_mean = mean(dataset, column_name)\n",
        "  column_data = get_column_data(dataset, column_name)\n",
        "  squared_diff = []\n",
        "  for val in column_data:\n",
        "    squared_diff.append((val - column_mean) ** 2)\n",
        "  return sum(squared_diff) / len(squared_diff)\n",
        "\n",
        "print('Variance of width column:', variance(data, 'width'))"
      ],
      "metadata": {
        "colab": {
          "base_uri": "https://localhost:8080/"
        },
        "id": "a_fci2ETSJ4j",
        "outputId": "22b3c080-3d37-4ba9-a1e6-67733ed1f4a8"
      },
      "execution_count": null,
      "outputs": [
        {
          "output_type": "stream",
          "name": "stdout",
          "text": [
            "Variance of width column: 60917.51816897424\n"
          ]
        }
      ]
    },
    {
      "cell_type": "markdown",
      "source": [
        "---\n",
        "#### **Problem #5.4**\n",
        "\n",
        "Write a function to compute the standard deviation of a column with numerical data. This function should accept the entire dataset and desired column name (string) as parameters and return the calculated standard deviation as a single number.\n",
        "\n",
        "> **Standard deviation** is the square root of the variance. It provides a measure of the average distance of each data point from the mean, in the same units as the data.\n",
        ">\n",
        "> $$\\text{Standard Deviation} = \\sqrt{\\text{Variance}}$$\n",
        "\n",
        "Test the function on the `width` column. The result sould be around **`246.81`**."
      ],
      "metadata": {
        "id": "-OevGsorR37P"
      }
    },
    {
      "cell_type": "code",
      "source": [
        "def # COMPLETE THIS LINE\n",
        "\n",
        "  var = # COMPLETE THIS LINE  (call variance function)\n",
        "\n",
        "  std_dev = # COMPLETE THIS LINE\n",
        "\n",
        "  return # COMPLETE THIS LINE"
      ],
      "metadata": {
        "id": "k_VZqXsST37d"
      },
      "execution_count": null,
      "outputs": []
    },
    {
      "cell_type": "markdown",
      "source": [
        "##### **Solution**"
      ],
      "metadata": {
        "id": "lk1InjOxT4Qk"
      }
    },
    {
      "cell_type": "code",
      "source": [
        "def standard_deviation(dataset, column_name):\n",
        "  var = variance(dataset, column_name)\n",
        "  std_dev = var ** 0.5\n",
        "  return std_dev\n",
        "\n",
        "print('Standard deviation of width column:', standard_deviation(data, 'width'))"
      ],
      "metadata": {
        "colab": {
          "base_uri": "https://localhost:8080/"
        },
        "id": "u1dUlubVT6Cz",
        "outputId": "44459ecf-fa9b-4ff8-a227-e8976271f513"
      },
      "execution_count": null,
      "outputs": [
        {
          "output_type": "stream",
          "name": "stdout",
          "text": [
            "Standard deviation of width column: 246.81474463446108\n"
          ]
        }
      ]
    },
    {
      "cell_type": "markdown",
      "source": [
        "---\n",
        "#### **Problem #5.5**\n",
        "\n",
        "Write a function to compute the correlation coefficient between two columns with numerical data. This function should accept the entire dataset and two column names (strings) as parameters and return the calculated correlation as a single decimal number between -1 and 1.\n",
        "\n",
        "> **Correlation** measures the strength and direction of the linear relationship between two variables. It is a standardized version of *covariance*, which ensures that the correlation is always between\n",
        "-1 and 1.\n",
        ">\n",
        "> &nbsp;\n",
        "> $$\\text{Correlation} = \\frac{\\text{Covariance}(X, Y)}{\\text{Standard Deviation}(X) \\text{ } \\times \\text{ } \\text{Standard Deviation}(Y)}$$\n",
        "> &nbsp;\n",
        "\n",
        "> **Covariance** measures the relationship between two variables (or columns in a dataset). It tells you how much two variables vary together. If the values of one variable increase as the values of another increase, covariance will be positive. If one decreases as the other increases, covariance will be negative.\n",
        ">\n",
        "> &nbsp;\n",
        "> $$\\text{Covariance} =  \\frac{1}{n} \\sum_{i=1}^{n} (x_i - \\mu_x)(y_i - \\mu_y) = \\frac{\\text{sum } (\\text{ }(\\text{point in col }X \\text{ } - \\text{ } \\text{mean}(X) \\text{ }) \\times (\\text{point in col }Y \\text{ } - \\text{ } \\text{mean}(Y) \\text{ }) \\text{ } )}{\\text{total number of points}}$$\n",
        "> &nbsp;\n",
        "\n",
        ">\n",
        "> |       | How to Interpret Correlation Coefficient |\n",
        "> | :---: | :----------------------- |\n",
        "> | **1** | Perfect positive correlation (as one variable increases, the other increases proportionally). |\n",
        "> | **-1** | Perfect negative correlation (as one variable increases, the other decreases proportionally). |\n",
        "> | **0** | No linear relationship between the variables. |\n",
        "\n",
        "\n",
        "In short, the purpose of computing the correlation between two columns is meant to tell us how much they influence each other. For example, we can inuitively deduce that the rate of `injuries` will increase if the rate of `fatalities` also increases.\n",
        "\n",
        "Test your function and determine the correlation between the following columns:\n",
        "\n",
        "- `injuries` and `fatalities`\n",
        "- `ef_rating` and `injuries`\n",
        "- `ef_rating` and `width`\n",
        "- `path` and `width`\n",
        "\n",
        "\n"
      ],
      "metadata": {
        "id": "Ci-3fLH0Uofi"
      }
    },
    {
      "cell_type": "code",
      "source": [
        "def correlation(dataset, column_nameX, column_nameY):\n",
        "  meanX = # COMPLETE THIS LINE\n",
        "  meanY = # COMPLETE THIS LINE\n",
        "\n",
        "  std_devX = # COMPLETE THIS LINE\n",
        "  std_devY = # COMPLETE THIS LINE\n",
        "\n",
        "  column_dataX = # COMPLETE THIS LINE\n",
        "  column_dataY = # COMPLETE THIS LINE\n",
        "\n",
        "  if std_devX * std_devY == 0:\n",
        "    return 0    # to avoid dividing by zero\n",
        "\n",
        "  cov = []\n",
        "  for i in range(len(column_dataX)):\n",
        "    cov.append( # COMPLETE THIS LINE\n",
        "\n",
        "  covariance = sum(cov) / len(cov)\n",
        "  correlation = # COMPLETE THIS LINE\n",
        "\n",
        "  return # COMPLETE THIS LINE"
      ],
      "metadata": {
        "id": "y3OGVAdXZMQu"
      },
      "execution_count": null,
      "outputs": []
    },
    {
      "cell_type": "markdown",
      "source": [
        "##### **Solution**"
      ],
      "metadata": {
        "id": "NTjYr7VaZNXg"
      }
    },
    {
      "cell_type": "code",
      "source": [
        "def correlation(dataset, column_nameX, column_nameY):\n",
        "  meanX = mean(dataset, column_nameX)\n",
        "  meanY = mean(dataset, column_nameY)\n",
        "  std_devX = standard_deviation(dataset, column_nameX)\n",
        "  std_devY = standard_deviation(dataset, column_nameY)\n",
        "  column_dataX = get_column_data(dataset, column_nameX)\n",
        "  column_dataY = get_column_data(dataset, column_nameY)\n",
        "\n",
        "  if std_devX * std_devY == 0:\n",
        "    return 0    # to avoid dividing by zero\n",
        "\n",
        "  cov = []\n",
        "  for i in range(len(column_dataX)):\n",
        "    cov.append((column_dataX[i] - meanX) * (column_dataY[i] - meanY))\n",
        "\n",
        "  covariance = sum(cov) / len(cov)\n",
        "  correlation = covariance / (std_devX * std_devY)\n",
        "  return correlation\n",
        "\n",
        "\n",
        "print('Correlation between injuries and fatalities =', correlation(data, 'injuries', 'fatalities'))\n",
        "print('Correlation between EF rating and injuries =', correlation(data, 'ef_rating', 'injuries'))\n",
        "print('Correlation between EF rating and tornado width =', correlation(data, 'ef_rating', 'width'))\n",
        "print('Correlation between path distance and tornado width =', correlation(data, 'path', 'width'))"
      ],
      "metadata": {
        "colab": {
          "base_uri": "https://localhost:8080/"
        },
        "id": "IdeZiynnZPjJ",
        "outputId": "c0f9ea1b-9b08-45c6-b44e-266882b4a258"
      },
      "execution_count": null,
      "outputs": [
        {
          "output_type": "stream",
          "name": "stdout",
          "text": [
            "Correlation between injuries and fatalities = 0.7641323487910162\n",
            "Correlation between EF rating and injuries = 0.24673761908052347\n",
            "Correlation between EF rating and tornado width = 0.467469755697045\n",
            "Correlation between path distance and tornado width = 0.34113187880572415\n"
          ]
        }
      ]
    },
    {
      "cell_type": "markdown",
      "source": [
        "---\n",
        "#### **Problem #5.6**\n",
        "\n",
        "Let's suppose we want to analyze the tornado from a specific state. We'd need a way to filter through the data and collect only the rows that have the desired value in the state column.\n",
        "\n",
        "The function `filter_by_col_val()` will accept the entire dataset, column name (string), and specified value (number/string) as parameters and return a subset of the data that meets the criteria.\n",
        "\n",
        "Complete the code below and test it by filtering for only tornado data from Iowa."
      ],
      "metadata": {
        "id": "UtpXbsqQG2Bs"
      }
    },
    {
      "cell_type": "code",
      "source": [
        "def filter_by_col_val(dataset, column_name, value):\n",
        "  col_idx = dataset[0].index(column_name) # this locates the index of a column given its string name\n",
        "  subset = [dataset[0]]                   # the new subset should still begin with the row of column names\n",
        "\n",
        "  for row in dataset[1:]:\n",
        "    if # COMPLETE THIS LINE\n",
        "      # COMPLETE THIS LINE\n",
        "\n",
        "  return # COMPLETE THIS LINE\n",
        "\n",
        "\n",
        "iowa_data = filter_by_col_val(data, 'state', 'IA')\n",
        "print_head(iowa_data)"
      ],
      "metadata": {
        "id": "ptdHSV35IvFw"
      },
      "execution_count": null,
      "outputs": []
    },
    {
      "cell_type": "markdown",
      "source": [
        "##### **Solution**"
      ],
      "metadata": {
        "id": "-r2z6WCHIs-P"
      }
    },
    {
      "cell_type": "code",
      "source": [
        "def filter_by_col_val(dataset, column_name, value):\n",
        "  col_idx = dataset[0].index(column_name)\n",
        "  subset = [dataset[0]]\n",
        "  for row in dataset[1:]:\n",
        "    if row[col_idx] == value:\n",
        "      subset.append(row)\n",
        "  return subset\n",
        "\n",
        "iowa_data = filter_by_col_val(data, 'state', 'IA')\n",
        "print_head(iowa_data)"
      ],
      "metadata": {
        "colab": {
          "base_uri": "https://localhost:8080/"
        },
        "id": "-PjhwA0oIMHy",
        "outputId": "ceb57cbe-8c33-49b5-f25b-3e731c3297a7"
      },
      "execution_count": null,
      "outputs": [
        {
          "output_type": "stream",
          "name": "stdout",
          "text": [
            "date       | state | ef_rating | injuries | fatalities | path | width | start_latitude | start_longitude | end_latitude | end_longitude \n",
            "---------------------------------------------------------------------------------------------------------------------------------------\n",
            "1950-05-08 | IA    | 2         | 0        | 0          | 0.1  | 200   | 41.03          | -95.27          | 41.02        | -95.22        \n",
            "1950-06-15 | IA    | 3         | 5        | 0          | 5.6  | 300   | 41.98          | -93.6           | 41.97        | -93.48        \n",
            "1951-08-26 | IA    | 1         | 0        | 0          | 5.6  | 140   | 42.85          | -95.95          | 42.92        | -95.87        \n",
            "1952-06-02 | IA    | 2         | 1        | 0          | 2.3  | 100   | 41.9           | -95.4           | 41.88        | -95.33        \n",
            "1952-06-23 | IA    | 4         | 4        | 0          | 24.1 | 400   | 42.75          | -95.85          | 42.9         | -95.42        \n",
            "1953-03-21 | IA    | 1         | 0        | 0          | 10.9 | 600   | 42.05          | -95.72          | 41.93        | -95.87        \n",
            "1953-03-21 | IA    | 2         | 0        | 0          | 11.7 | 100   | 41.88          | -92.62          | 42.05        | -92.55        \n",
            "1953-03-21 | IA    | 3         | 0        | 0          | 31.8 | 400   | 43.27          | -94.63          | 43.3         | -94.0         \n",
            "1953-05-10 | IA    | 3         | 0        | 0          | 6.6  | 400   | 42.95          | -91.33          | 43.05        | -91.28        \n"
          ]
        }
      ]
    },
    {
      "cell_type": "markdown",
      "source": [
        "---\n",
        "#### **Problem #5.7**\n",
        "\n",
        "Determine whether Iowa or Missouri has had more recorded tornados."
      ],
      "metadata": {
        "id": "l_sSUoOJ007L"
      }
    },
    {
      "cell_type": "code",
      "source": [
        "# COMPLETE THIS CODE"
      ],
      "metadata": {
        "id": "T4tjQI5a1Kd-"
      },
      "execution_count": null,
      "outputs": []
    },
    {
      "cell_type": "markdown",
      "source": [
        "##### **Solution**"
      ],
      "metadata": {
        "id": "fnDkJAmJ1LOa"
      }
    },
    {
      "cell_type": "code",
      "source": [
        "print('Iowa =', len(iowa_data))\n",
        "print('Missouri =', len(filter_by_col_val(data, 'state', 'MO')))"
      ],
      "metadata": {
        "colab": {
          "base_uri": "https://localhost:8080/"
        },
        "id": "k7-xtQb21M_s",
        "outputId": "2efe424f-6ca1-4cb9-9337-2c0d1847e91e"
      },
      "execution_count": null,
      "outputs": [
        {
          "output_type": "stream",
          "name": "stdout",
          "text": [
            "Iowa = 1801\n",
            "Missouri = 1633\n"
          ]
        }
      ]
    },
    {
      "cell_type": "markdown",
      "source": [
        "---\n",
        "#### **Problem #5.8**\n",
        "\n",
        "Determine how the number of tornados that have been recorded in your state from 1950-2021."
      ],
      "metadata": {
        "id": "DSqaWqP-1VJq"
      }
    },
    {
      "cell_type": "code",
      "source": [
        "# COMPLETE THIS CODE"
      ],
      "metadata": {
        "id": "rQbpAMwX1hmE"
      },
      "execution_count": null,
      "outputs": []
    },
    {
      "cell_type": "markdown",
      "source": [
        "##### **Solution**"
      ],
      "metadata": {
        "id": "LjI0KOZw1jMA"
      }
    },
    {
      "cell_type": "code",
      "source": [
        "my_state = 'MN' # or whichever state you are from\n",
        "print(my_state, 'had', len(filter_by_col_val(data, 'state', my_state)), 'recorded tornados from 1950-2021.')"
      ],
      "metadata": {
        "colab": {
          "base_uri": "https://localhost:8080/"
        },
        "id": "j5yks7_a1l5p",
        "outputId": "4d811a29-b343-4724-a29c-24f70f2f48a8"
      },
      "execution_count": null,
      "outputs": [
        {
          "output_type": "stream",
          "name": "stdout",
          "text": [
            "MN had 1441 recorded tornados from 1950-2021.\n"
          ]
        }
      ]
    },
    {
      "cell_type": "markdown",
      "source": [
        "---\n",
        "#### **Problem #5.9**\n",
        "\n",
        "Determine which state has had the most EF5 tornados.\n",
        "\n",
        "**Hint:** Filter dataset by EF rating first, then filter that subset by state. Use `states.values()` to iterate through each state."
      ],
      "metadata": {
        "id": "ZTJSt_yy2R_S"
      }
    },
    {
      "cell_type": "code",
      "source": [
        "ef5_data = # COMPLETE THIS LINE\n",
        "most_ef5 = 0\n",
        "state_with_most = ''\n",
        "\n",
        "for state in states.values():\n",
        "  state_data = # COMPLETE THIS LINE\n",
        "\n",
        "  # COMPLETE THIS CODE (it is similar to the logic for maximum() function!)\n",
        "\n",
        "print(# COMPLETE THIS LINE"
      ],
      "metadata": {
        "id": "-rIGv3Vm2dcn"
      },
      "execution_count": null,
      "outputs": []
    },
    {
      "cell_type": "markdown",
      "source": [
        "##### **Solution**"
      ],
      "metadata": {
        "id": "JtVGA-eq2eDb"
      }
    },
    {
      "cell_type": "code",
      "source": [
        "ef5_data = filter_by_col_val(data, 'ef_rating', 5)\n",
        "most_ef5 = 0\n",
        "state_with_most = ''\n",
        "\n",
        "for state in states.values():\n",
        "  state_data = filter_by_col_val(ef5_data, 'state', state)\n",
        "\n",
        "  if len(state_data) > most_ef5:\n",
        "    most_ef5 = len(state_data)\n",
        "    state_with_most = state\n",
        "\n",
        "print('The state with the most recorded EF5 tornados is', state_with_most)"
      ],
      "metadata": {
        "colab": {
          "base_uri": "https://localhost:8080/"
        },
        "id": "DJDQpk0p2fUL",
        "outputId": "525914c1-cbb0-48f9-9fdc-a54f3b6a805f"
      },
      "execution_count": null,
      "outputs": [
        {
          "output_type": "stream",
          "name": "stdout",
          "text": [
            "The state with the most recorded EF5 tornados is OK\n"
          ]
        }
      ]
    },
    {
      "cell_type": "markdown",
      "source": [
        "---\n",
        "#### **Problem #5.10**\n",
        "\n",
        "Are EF5 tornados more deadly in this state (from Problem #2.13) or in Alabama?"
      ],
      "metadata": {
        "id": "zVkF-tUY3wJG"
      }
    },
    {
      "cell_type": "code",
      "source": [
        "# COMPLETE THIS CODE"
      ],
      "metadata": {
        "id": "yErxlIz14DCG"
      },
      "execution_count": null,
      "outputs": []
    },
    {
      "cell_type": "markdown",
      "source": [
        "##### **Solution**"
      ],
      "metadata": {
        "id": "DDKAupGV4BWz"
      }
    },
    {
      "cell_type": "code",
      "source": [
        "alabama_ef5 = filter_by_col_val(ef5_data, 'state', 'AL')\n",
        "oklahoma_ef5 = filter_by_col_val(ef5_data, 'state', 'OK')\n",
        "print('Average casualties for EF5 tornados in Alabama is', mean(alabama_ef5, 'fatalities'))\n",
        "print('Average casualties for EF5 tornados in Oklahoma is', mean(oklahoma_ef5, 'fatalities'))"
      ],
      "metadata": {
        "colab": {
          "base_uri": "https://localhost:8080/"
        },
        "id": "RETSjU_N4DpB",
        "outputId": "4fae3dc3-90d5-4138-dd7e-28ca7c4df230"
      },
      "execution_count": null,
      "outputs": [
        {
          "output_type": "stream",
          "name": "stdout",
          "text": [
            "Average casualties for EF5 tornados in Alabama is 31.857142857142858\n",
            "Average casualties for EF5 tornados in Oklahoma is 22.0\n"
          ]
        }
      ]
    },
    {
      "cell_type": "markdown",
      "source": [
        "---\n",
        "#### **Problem #5.11**\n",
        "\n",
        "Now, let's suppose we want to analyze trends in the data over time. For this, we would need to be able to sort or filter the data by year or month. Every date in the `date` column has the **year** *(4 digits)*, **month** *(2 digits)*, and **day** *(2 digits)* separated by dashes so we can't filter on the date string as a whole. Instead, we can use indexing and slicing to access certain parts of the string.\n",
        "\n",
        "Below is the function `filter_by_month()` that accepts the dataset and a month number as parameters and returns the subset of tornado records that occurred during that month. This function has been completed for you, just run the code cell and make note of the output.\n",
        "\n",
        "Your task is to create a similar function called `filter_by_year()`. Test the function by filtering for the year 2000."
      ],
      "metadata": {
        "id": "MJhT3sN5LlQR"
      }
    },
    {
      "cell_type": "code",
      "source": [
        "# RUN THIS CODE CELL\n",
        "def filter_by_month(dataset, month_num):\n",
        "  subset = [dataset[0]]\n",
        "  for row in dataset[1:]:\n",
        "    date = row[0]\n",
        "    m = date[5:7]\n",
        "    if int(m) == int(month_num):\n",
        "      subset.append(row)\n",
        "  return subset\n",
        "\n",
        "print_head(filter_by_month(data, 1))  # All tornados that occurred in January"
      ],
      "metadata": {
        "id": "y4-WSVWyNhZm"
      },
      "execution_count": null,
      "outputs": []
    },
    {
      "cell_type": "code",
      "source": [
        "def filter_by_year( # COMPLETE THIS LINE\n",
        "  # COMPLETE THIS FUNCTION\n",
        "\n",
        "# TEST THE FUNCTION"
      ],
      "metadata": {
        "id": "ACUxV79BQBOc"
      },
      "execution_count": null,
      "outputs": []
    },
    {
      "cell_type": "markdown",
      "source": [
        "##### **Solution**"
      ],
      "metadata": {
        "id": "jXVBvqApNhqF"
      }
    },
    {
      "cell_type": "code",
      "source": [
        "def filter_by_year(dataset, year):\n",
        "  subset = [dataset[0]]\n",
        "  for row in dataset[1:]:\n",
        "    date = row[0]\n",
        "    y = date[:4]\n",
        "    if int(y) == int(year):\n",
        "      subset.append(row)\n",
        "  return subset\n",
        "\n",
        "print_head(filter_by_year(data, 2000))"
      ],
      "metadata": {
        "colab": {
          "base_uri": "https://localhost:8080/"
        },
        "id": "va5Yr7h1Ni7v",
        "outputId": "45d4c22c-751a-4fde-a3f5-052906ef2214"
      },
      "execution_count": null,
      "outputs": [
        {
          "output_type": "stream",
          "name": "stdout",
          "text": [
            "date       | state | ef_rating | injuries | fatalities | path | width | start_latitude | start_longitude | end_latitude | end_longitude \n",
            "---------------------------------------------------------------------------------------------------------------------------------------\n",
            "2000-01-03 | AR    | 1         | 0        | 0          | 4.8  | 40    | 36.22          | -92.18          | 36.27        | -92.1         \n",
            "2000-01-03 | AR    | 1         | 0        | 0          | 1.8  | 40    | 36.22          | -91.83          | 36.23        | -91.8         \n",
            "2000-01-03 | AR    | 1         | 0        | 0          | 2.0  | 40    | 36.27          | -91.7           | 36.28        | -91.67        \n",
            "2000-01-03 | AR    | 1         | 0        | 0          | 3.1  | 40    | 36.47          | -91.65          | 36.48        | -91.6         \n",
            "2000-01-03 | IN    | 1         | 0        | 0          | 0.3  | 50    | 38.47          | -86.18          | 38.47        | -86.18        \n",
            "2000-01-03 | KY    | 3         | 3        | 0          | 24.0 | 440   | 37.27          | -88.08          | 37.48        | -87.73        \n",
            "2000-01-03 | KY    | 3         | 18       | 0          | 7.0  | 880   | 37.72          | -87.18          | 37.77        | -87.12        \n",
            "2000-01-03 | MS    | 0         | 0        | 0          | 0.1  | 20    | 31.1           | -91.27          | 31.1         | -91.27        \n",
            "2000-01-03 | MS    | 1         | 0        | 0          | 3.0  | 150   | 33.63          | -90.37          | 33.67        | -90.33        \n"
          ]
        }
      ]
    },
    {
      "cell_type": "markdown",
      "source": [
        "---\n",
        "#### **Problem #5.12**\n",
        "\n",
        "Has the number of annual tornadic events increased or decreased since 1950? Use a loop to print the number of tornados for the years 1950, 1960, 1970, ..., 2020.\n",
        "\n",
        "**Hint:** Use `range()`."
      ],
      "metadata": {
        "id": "fm3ShfLf4tLY"
      }
    },
    {
      "cell_type": "code",
      "source": [
        "# COMPLETE THIS CODE"
      ],
      "metadata": {
        "id": "v9zzLYqc5pEv"
      },
      "execution_count": null,
      "outputs": []
    },
    {
      "cell_type": "markdown",
      "source": [
        "##### **Solution**"
      ],
      "metadata": {
        "id": "sqhJsvXW5nqe"
      }
    },
    {
      "cell_type": "code",
      "source": [
        "for i in range(1950,2021,10):\n",
        "  print('Year:', i, ' Tornados:', len(filter_by_year(data, i)))"
      ],
      "metadata": {
        "colab": {
          "base_uri": "https://localhost:8080/"
        },
        "id": "kxloz15A44FR",
        "outputId": "9c617cf9-ca88-495c-f273-d290d637ae53"
      },
      "execution_count": null,
      "outputs": [
        {
          "output_type": "stream",
          "name": "stdout",
          "text": [
            "Year: 1950  Tornados: 94\n",
            "Year: 1960  Tornados: 172\n",
            "Year: 1970  Tornados: 179\n",
            "Year: 1980  Tornados: 241\n",
            "Year: 1990  Tornados: 285\n",
            "Year: 2000  Tornados: 1076\n",
            "Year: 2010  Tornados: 1282\n",
            "Year: 2020  Tornados: 978\n"
          ]
        }
      ]
    },
    {
      "cell_type": "markdown",
      "source": [
        "---\n",
        "#### **Problem #5.13**\n",
        "\n",
        "Which month has historically seen the most tornado events from 1950-2021? In other words, find the average number of tornados that occur annually for each month.\n",
        "\n",
        "**Optional:** Use the abbreviations in the `months` list in your print statements."
      ],
      "metadata": {
        "id": "A2S5mMaU5shR"
      }
    },
    {
      "cell_type": "code",
      "source": [
        "months = ['Jan', 'Feb', 'Mar', 'Apr', 'May', 'Jun', 'Jul', 'Aug', 'Sep', 'Oct', 'Nov', 'Dec']\n",
        "total_num_years = 2021-1950\n",
        "\n",
        "# COMPLETE THIS CODE"
      ],
      "metadata": {
        "id": "kN11146m51uO"
      },
      "execution_count": null,
      "outputs": []
    },
    {
      "cell_type": "markdown",
      "source": [
        "##### **Solution**"
      ],
      "metadata": {
        "id": "ggH7MOVv51_A"
      }
    },
    {
      "cell_type": "code",
      "source": [
        "months = ['Jan', 'Feb', 'Mar', 'Apr', 'May', 'Jun', 'Jul', 'Aug', 'Sep', 'Oct', 'Nov', 'Dec']\n",
        "total_num_years = 2021-1950\n",
        "\n",
        "for i in range(1,13):\n",
        "  print(months[i-1], '=', round(len(filter_by_month(data, i)) / total_num_years))"
      ],
      "metadata": {
        "colab": {
          "base_uri": "https://localhost:8080/"
        },
        "id": "Rw-U8Lkb53hl",
        "outputId": "9e82f14b-b208-4675-b435-d05e81608de5"
      },
      "execution_count": null,
      "outputs": [
        {
          "output_type": "stream",
          "name": "stdout",
          "text": [
            "Jan = 18\n",
            "Feb = 18\n",
            "Mar = 42\n",
            "Apr = 91\n",
            "May = 125\n",
            "Jun = 93\n",
            "Jul = 48\n",
            "Aug = 35\n",
            "Sep = 29\n",
            "Oct = 28\n",
            "Nov = 25\n",
            "Dec = 19\n"
          ]
        }
      ]
    },
    {
      "cell_type": "markdown",
      "source": [
        "---\n",
        "#### **Problem #5.14**\n",
        "\n",
        "How many tornados were recorded in Minnesota during the month of June in the year 1992?\n",
        "\n",
        "What day did all of them occur?"
      ],
      "metadata": {
        "id": "l5VwZdGH8Bu_"
      }
    },
    {
      "cell_type": "code",
      "source": [
        "# COMPLETE THIS CODE"
      ],
      "metadata": {
        "id": "5aLjqq8u-Ew3"
      },
      "execution_count": null,
      "outputs": []
    },
    {
      "cell_type": "markdown",
      "source": [
        "##### **Solution**"
      ],
      "metadata": {
        "id": "4mhSRSKT-DAZ"
      }
    },
    {
      "cell_type": "code",
      "source": [
        "subset = filter_by_month(filter_by_year(filter_by_col_val(data, 'state', 'MN'),1992),6)\n",
        "\n",
        "print(len(subset))\n",
        "print_head(subset, 17)"
      ],
      "metadata": {
        "colab": {
          "base_uri": "https://localhost:8080/"
        },
        "id": "eLboNOlx7ouB",
        "outputId": "f3b4704d-2830-46e8-a9f2-3829817c4786"
      },
      "execution_count": null,
      "outputs": [
        {
          "output_type": "stream",
          "name": "stdout",
          "text": [
            "17\n",
            "date       | state | ef_rating | injuries | fatalities | path | width | start_latitude | start_longitude | end_latitude | end_longitude \n",
            "---------------------------------------------------------------------------------------------------------------------------------------\n",
            "1992-06-16 | MN    | 1         | 0        | 0          | 6.5  | 23    | 44.52          | -95.17          | 44.6         | -95.13        \n",
            "1992-06-16 | MN    | 2         | 0        | 0          | 13.0 | 40    | 44.0           | -95.85          | 44.15        | -95.63        \n",
            "1992-06-16 | MN    | 2         | 0        | 0          | 12.0 | 60    | 44.52          | -95.42          | 44.65        | -95.33        \n",
            "1992-06-16 | MN    | 2         | 0        | 0          | 8.0  | 30    | 44.52          | -95.25          | 44.6         | -95.2         \n",
            "1992-06-16 | MN    | 2         | 0        | 0          | 5.5  | 23    | 44.57          | -95.17          | 44.67        | -95.22        \n",
            "1992-06-16 | MN    | 2         | 0        | 0          | 3.0  | 13    | 44.67          | -95.1           | 44.72        | -95.1         \n",
            "1992-06-16 | MN    | 2         | 0        | 0          | 4.0  | 40    | 43.92          | -95.98          | 43.93        | -95.9         \n",
            "1992-06-16 | MN    | 2         | 0        | 0          | 7.5  | 90    | 43.95          | -95.43          | 44.1         | -95.37        \n",
            "1992-06-16 | MN    | 2         | 0        | 0          | 10.0 | 80    | 45.23          | -94.07          | 45.33        | -93.85        \n",
            "1992-06-16 | MN    | 3         | 0        | 0          | 6.0  | 23    | 44.78          | -95.85          | 44.78        | -95.7         \n",
            "1992-06-16 | MN    | 3         | 0        | 0          | 12.0 | 80    | 44.1           | -95.82          | 44.23        | -95.72        \n",
            "1992-06-16 | MN    | 3         | 0        | 0          | 16.0 | 90    | 44.23          | -95.58          | 44.45        | -95.48        \n",
            "1992-06-16 | MN    | 3         | 0        | 0          | 13.0 | 80    | 44.35          | -95.37          | 44.5         | -95.15        \n",
            "1992-06-16 | MN    | 3         | 8        | 0          | 10.0 | 120   | 45.02          | -94.23          | 45.15        | -94.12        \n",
            "1992-06-16 | MN    | 4         | 3        | 0          | 7.0  | 160   | 43.95          | -95.9           | 44.05        | -95.97        \n",
            "1992-06-16 | MN    | 5         | 35       | 1          | 16.0 | 280   | 43.8           | -96.02          | 44.0         | -95.85        \n"
          ]
        }
      ]
    },
    {
      "cell_type": "markdown",
      "source": [
        "---\n",
        "#### **Problem #5.15**\n",
        "\n",
        "In the United States, tornados typically move in one common direction. Is it north? Southeast? West? Let's analyze the latitude and longitude data to find out!\n",
        "\n",
        "As you can see from the map below, longitude becomes more negative the further west and latitude becomes more positive the further north you travel.\n",
        "\n",
        "\n",
        "|     |     |\n",
        "| --- | --- |\n",
        "| <img height=200 src=\"https://digitalgeographic.com/resources/8020/GPS/g/ceqd-anno.png\"> | <img height=200 src=\"https://shapegrams.com/wp-content/uploads/2022/04/Compass-Rose-Featured-Image.png\">\n",
        "\n",
        "\n",
        "> ✈️ ✈️ ✈️ <br>\n",
        "> Suppose you take a flight from Chicago, Illinois to Charlotte, North Carolina. Your trip could be described by the following starting and ending coordinates:\n",
        ">\n",
        "> | Chicago 🛫 |   | Charlotte 🛬 |   |\n",
        "> | :--------------- | :--------------- | :------------ | :------------ |\n",
        "> | **start_latitude** | **start_longitude** | **end_latitude** | **end_longitude** |\n",
        "> | 41.9813          | -87.9089         | 35.2160        | -80.9540       |\n",
        ">\n",
        "\n",
        "> Based on these coordinates, which cardinal direction did you travel?\n",
        ">\n",
        "> |     |     |\n",
        "> | --- | --- |\n",
        "> | **Vertical Direction (Latitude)** <br><br>`end_latitude - start_latitude = -6.7653` | A *negative* difference in latitude indicates you moved <u>**south**</u>. |\n",
        "> | | |\n",
        "> | **Horizontal Direction (Longitude)** <br><br>`end_longitude - start_longitude = 6.9549` | A *positive* difference in logitude indicates you moved <u>**east**</u>. |\n",
        "> | | |\n",
        "> | `south + east = southeast` | Your flight flew **southeast (SE)**&nbsp;! |\n",
        "\n",
        "Use the dictionary called `directions` to keep track of the number of tornados that traveled in each cardinal direction. Tornados that either were stationary or didn't last long enough to measure any noticable change in position are categorized by an empty string `''` for simplicity.\n",
        "\n",
        "- Iterate through each row in the data.\n",
        "  - Find the difference between `end_latitude` and `start_latitude` to determine whether the lateral direction is `'N'`, `'S'`, or `''`. Add this to the `dir` string.\n",
        "  - Find the difference between `end_longitude` and `start_longitude` to determine whether the longitudinal direction is `'E'`, `'W'`, or `''`. Add this to the `dir` string.\n",
        "  - Use the `dir` string to access the appropriate dictionary key and add 1 to its value.\n",
        "- Print the dictionary to see which direction has the largest value."
      ],
      "metadata": {
        "id": "mus_-TIWWgOg"
      }
    },
    {
      "cell_type": "code",
      "source": [
        "directions = {'NW':0, 'N':0, 'NE':0, 'E':0, 'SE':0, 'S':0, 'SW':0, 'W':0, '':0}\n",
        "\n",
        "for row in data[1:]:\n",
        "  dir = ''\n",
        "\n",
        "  diff_lat = # COMPLETE THIS LINE\n",
        "  if diff_lat > 0:\n",
        "    dir += # COMPLETE THIS LINE\n",
        "  elif diff_lat < 0:\n",
        "    dir += # COMPLETE THIS LINE\n",
        "\n",
        "  diff_lon = # COMPLETE THIS LINE\n",
        "  if diff_lon > 0:\n",
        "    dir += # COMPLETE THIS LINE\n",
        "  elif diff_lon < 0:\n",
        "    dir += # COMPLETE THIS LINE\n",
        "\n",
        "  directions[dir] += 1\n",
        "\n",
        "print(directions)"
      ],
      "metadata": {
        "id": "x2S015-trPEX"
      },
      "execution_count": null,
      "outputs": []
    },
    {
      "cell_type": "markdown",
      "source": [
        "##### **Solution**"
      ],
      "metadata": {
        "id": "iT8chTJ5p1ax"
      }
    },
    {
      "cell_type": "code",
      "source": [
        "directions = {'NW':0, 'N':0, 'NE':0, 'E':0, 'SE':0, 'S':0, 'SW':0, 'W':0, '':0}\n",
        "\n",
        "for row in data[1:]:\n",
        "  dir = ''\n",
        "\n",
        "  diff_lat = row[9] - row[7]\n",
        "  if diff_lat > 0:\n",
        "    dir += 'N'\n",
        "  elif diff_lat < 0:\n",
        "    dir += 'S'\n",
        "\n",
        "  diff_lon = row[10] - row[8]\n",
        "  if diff_lon > 0:\n",
        "    dir += 'E'\n",
        "  elif diff_lon < 0:\n",
        "    dir += 'W'\n",
        "\n",
        "  directions[dir] += 1\n",
        "\n",
        "print(directions)"
      ],
      "metadata": {
        "colab": {
          "base_uri": "https://localhost:8080/"
        },
        "id": "n1Rtn1uMq3lf",
        "outputId": "5e1041e6-0dce-4de7-8526-56dc54969f55"
      },
      "execution_count": null,
      "outputs": [
        {
          "output_type": "stream",
          "name": "stdout",
          "text": [
            "{'NW': 1522, 'N': 896, 'NE': 19939, 'E': 2678, 'SE': 4671, 'S': 275, 'SW': 449, 'W': 193, '': 9967}\n"
          ]
        }
      ]
    },
    {
      "cell_type": "markdown",
      "source": [
        "---\n",
        "#End of notebook\n",
        "\n",
        "© 2024 The Coding School, All rights reserved"
      ],
      "metadata": {
        "id": "xKBxeZM4c5lJ"
      }
    }
  ]
}